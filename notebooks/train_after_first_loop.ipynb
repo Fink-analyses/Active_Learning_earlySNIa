{
 "cells": [
  {
   "cell_type": "code",
   "execution_count": 234,
   "id": "f15c902f-1510-49b5-a049-06d51de96c1c",
   "metadata": {
    "tags": []
   },
   "outputs": [],
   "source": [
    "import pandas as pd\n",
    "import numpy as np\n",
    "\n",
    "from shutil import copy\n",
    "from copy import deepcopy\n",
    "from sklearn.ensemble import RandomForestClassifier\n",
    "from actsnclass.metrics import get_snpcc_metric\n",
    "from actsnfink import *\n",
    "import matplotlib.pylab as plt\n",
    "import pickle\n",
    "from actsnclass.metrics import get_snpcc_metric\n",
    "\n",
    "\n",
    "import requests\n",
    "import io"
   ]
  },
  {
   "cell_type": "code",
   "execution_count": 41,
   "id": "0a3af45a-7d56-4c09-86d9-4b0c6698b58e",
   "metadata": {
    "tags": []
   },
   "outputs": [
    {
     "name": "stdout",
     "output_type": "stream",
     "text": [
      "Initial training:  10\n",
      "Initial test:  23765\n",
      "Query:  30\n"
     ]
    }
   ],
   "source": [
    "# read data\n",
    "\n",
    "date_before = '20230921'\n",
    "\n",
    "train = pd.read_csv('/media/emille/git/Fink/supernova_al/repository/al_real_time/data/' + \\\n",
    "                    date_before + '/UncSampling/training_samples/initialtrain_v0.csv')\n",
    "print('Initial training: ', train.shape[0])\n",
    "\n",
    "test = pd.read_csv('/media/emille/git/Fink/supernova_al/repository/al_real_time/data/' + \\\n",
    "                   date_before + '/UncSampling/test_samples/initial_test_v0.csv')\n",
    "print('Initial test: ', test.shape[0])\n",
    "\n",
    "query = pd.read_csv('/media/emille/git/Fink/supernova_al/repository/al_real_time/data/' + \\\n",
    "                    date_before + '/UncSampling/queries/queried_UncSampling_v0.dat', skiprows=1,\n",
    "                   names=['day', 'objectId', 'type'] + list(train.keys())[:-2], index_col=False)\n",
    "print('Query: ', query.shape[0])"
   ]
  },
  {
   "cell_type": "code",
   "execution_count": 21,
   "id": "7d14509b-0c90-417b-870d-2915287ae544",
   "metadata": {
    "tags": []
   },
   "outputs": [],
   "source": [
    "# make sure there is no test/train overlap\n",
    "flag_overlap = np.isin(test['objectId'].values, train['objectId'].values)\n",
    "\n",
    "if sum(flag_overlap) > 0:\n",
    "    raise ValueError('There are repeated objects in training and test.')"
   ]
  },
  {
   "cell_type": "code",
   "execution_count": 42,
   "id": "28810273-ce58-4b46-84b7-59c01522714a",
   "metadata": {
    "tags": []
   },
   "outputs": [
    {
     "name": "stdout",
     "output_type": "stream",
     "text": [
      "Updated test:  23735\n",
      "Updated train:  40\n"
     ]
    }
   ],
   "source": [
    "# remove queried objects from test\n",
    "flag_query = np.isin(test['objectId'].values, query['objectId'].values)\n",
    "if sum(flag_query) != query.shape[0]:\n",
    "    raise ValueError('Not all objects in query were found. Missing: ', query.shape[0] - sum(flag_query))\n",
    "    \n",
    "test_updated = deepcopy(test[~flag_query]).reset_index()\n",
    "print('Updated test: ', test_updated.shape[0])\n",
    "    \n",
    "# add them to train\n",
    "train_updated = pd.concat([train, test[flag_query]], ignore_index=True)\n",
    "print('Updated train: ', train_updated.shape[0])"
   ]
  },
  {
   "cell_type": "code",
   "execution_count": 245,
   "id": "dd1823b0-b7d6-4443-94ce-d4905e58c6c4",
   "metadata": {
    "tags": []
   },
   "outputs": [
    {
     "data": {
      "text/plain": [
       "(['accuracy', 'efficiency', 'purity', 'fom'],\n",
       " [0.952728038761323,\n",
       "  0.48358585858585856,\n",
       "  0.7158878504672898,\n",
       "  0.22075492710176856])"
      ]
     },
     "execution_count": 245,
     "metadata": {},
     "output_type": "execute_result"
    }
   ],
   "source": [
    "header = list(train_updated.keys())[:-3]\n",
    "\n",
    "clf = RandomForestClassifier(random_state=42, n_estimators=1000)\n",
    "clf.fit(train_updated[header], train_updated['type'].values == 'Ia')\n",
    "\n",
    "pred = clf.predict(test_updated[header])\n",
    "get_snpcc_metric(pred, test_updated['type'].values == 'Ia')"
   ]
  },
  {
   "cell_type": "code",
   "execution_count": 162,
   "id": "83509594-0607-4f8a-8188-8a063cf40b18",
   "metadata": {
    "tags": []
   },
   "outputs": [],
   "source": [
    "# new labels from 2.3m\n",
    "\n",
    "new_labels = pd.DataFrame\n",
    "\n",
    "\n",
    "new_data = np.array([['ZTF23abceaws', 'other', 2460215.5000000],\n",
    "            ['ZTF23abdhvou', 'SN Ia', 2460212.5000000],\n",
    "            ['ZTF23abecphw', 'other', 2460208.5000000],\n",
    "            ['ZTF23abeqble', 'other', 2460214.5000000],\n",
    "            ['ZTF23abhtkba', 'other', 2460222.5000000],\n",
    "            ['ZTF23abeudve', 'SN Ia', 2460222.5000000],\n",
    "            ['ZTF23abhafym', 'SN Ia', 2460226.5000000]])\n",
    "    \n",
    "new_data_pd = pd.DataFrame(new_data, columns=['objectId', 'TNS', 'jd_query'])"
   ]
  },
  {
   "cell_type": "code",
   "execution_count": 156,
   "id": "bd2bc083-d351-43fb-be55-daf3dcfa642b",
   "metadata": {
    "tags": []
   },
   "outputs": [],
   "source": [
    "# get data for ZTF19acnjwgm\n",
    "alerts_list = []\n",
    "\n",
    "for i in range(new_data_pd.shape[0]):\n",
    "    \n",
    "    name = new_data_pd.iloc[i]['objectId']\n",
    "    r = requests.post(\n",
    "        'https://fink-portal.org/api/v1/objects',\n",
    "        json={\n",
    "            'objectId':name,\n",
    "            'output-format': 'json'\n",
    "        }\n",
    "    )\n",
    "\n",
    "    # Format output in a DataFrame\n",
    "    pdf = pd.read_json(io.BytesIO(r.content))\n",
    "    if pdf.shape[0] == 0:\n",
    "        raise ValueError('No alerts found for object: ', name)\n",
    "        \n",
    "    # add label\n",
    "    pdf['TNS'] = new_data_pd.iloc[i]['type'] \n",
    "\n",
    "    alerts_list.append(pdf)\n",
    "    \n",
    "alerts_pd = pd.concat(alerts_list, ignore_index=True)\n"
   ]
  },
  {
   "cell_type": "code",
   "execution_count": 165,
   "id": "b8c5c1ba-0546-4a43-9bee-d882fcfaa771",
   "metadata": {},
   "outputs": [],
   "source": [
    "# feature extract new data\n",
    "\n",
    "alerts_format_list = []\n",
    "\n",
    "for indx_obj in range(new_data_pd.shape[0]):\n",
    "    # isolate one object\n",
    "    flag_obj = alerts_pd['i:objectId'].values == new_data_pd['objectId'].values[indx_obj]\n",
    "\n",
    "    # separate only dates until the alert was sent to follow-up\n",
    "    cjd = alerts_pd[flag_obj]['i:jd'].values\n",
    "    flag_jd = cjd < float(new_data_pd.iloc[indx_obj]['jd_query'])\n",
    "    \n",
    "    lc = pd.DataFrame([[new_data_pd.iloc[indx_obj]['objectId'], \n",
    "                        alerts_pd[flag_obj]['i:candid'].values[flag_jd][np.argsort(alerts_pd[flag_obj]['i:jd'].values[flag_jd])[-1]],\n",
    "                        alerts_pd[flag_obj]['i:jd'].values[flag_jd],         \n",
    "                        alerts_pd[flag_obj]['i:fid'].values[flag_jd], \n",
    "                        alerts_pd[flag_obj]['i:magpsf'].values[flag_jd],\n",
    "                        alerts_pd[flag_obj]['i:sigmapsf'].values[flag_jd],\n",
    "                        new_data_pd.iloc[indx_obj]['TNS']]], \n",
    "                        columns=['objectId', 'candid', 'cjd', 'cfid', 'cmagpsf', 'csigmapsf', 'TNS'], index=[0], dtype=object)\n",
    "    \n",
    "    alerts_format_list.append(lc)\n",
    "    \n",
    "alerts_format_pd = pd.concat(alerts_format_list, ignore_index=True)"
   ]
  },
  {
   "cell_type": "code",
   "execution_count": 171,
   "id": "f03e709d-f378-40fe-88c3-ac55aabc361f",
   "metadata": {
    "tags": []
   },
   "outputs": [],
   "source": [
    "# convert from mag to FLUXCAL\n",
    "alerts_flux = convert_full_dataset(alerts_format_pd, obj_id_header='objectId')"
   ]
  },
  {
   "cell_type": "code",
   "execution_count": 172,
   "id": "23c20261-e94d-4238-8745-61c7cdf886f4",
   "metadata": {
    "tags": []
   },
   "outputs": [],
   "source": [
    "alerts_features = featurize_full_dataset(alerts_flux, screen=False)"
   ]
  },
  {
   "cell_type": "code",
   "execution_count": 209,
   "id": "34f1625f-a510-492b-8ca7-4695c660ae32",
   "metadata": {
    "tags": []
   },
   "outputs": [],
   "source": [
    "# filter alerts with zero in all filters\n",
    "flag_zero = np.logical_or(alerts_features['a_g'].values == 0.0,\n",
    "                           alerts_features['a_r'].values == 0.0)\n",
    "\n",
    "alerts_use = deepcopy(alerts_features[~flag_zero])"
   ]
  },
  {
   "cell_type": "code",
   "execution_count": 211,
   "id": "ed701877-90db-4faf-add0-fdba4bccd984",
   "metadata": {
    "tags": []
   },
   "outputs": [
    {
     "data": {
      "image/png": "[encoded data removed]",
      "text/plain": [
       "<Figure size 1152x360 with 2 Axes>"
      ]
     },
     "metadata": {
      "needs_background": "light"
     },
     "output_type": "display_data"
    },
    {
     "data": {
      "image/png": "[encoded data removed]",
      "text/plain": [
       "<Figure size 1152x360 with 2 Axes>"
      ]
     },
     "metadata": {
      "needs_background": "light"
     },
     "output_type": "display_data"
    }
   ],
   "source": [
    "f = ['g', 'r']\n",
    "\n",
    "for indx in range(alerts_use.shape[0]):\n",
    "\n",
    "    obj_id = alerts_use.iloc[indx]['id']\n",
    "    obj_flag = alerts_flux['id'].values == obj_id\n",
    "\n",
    "    plt.figure(figsize=(16,5))\n",
    "    plt.suptitle(obj_id)\n",
    "\n",
    "    for i in range(2):\n",
    "        flag_filter = np.logical_and(obj_flag, alerts_flux['FLT'].values == f[i])\n",
    "    \n",
    "        flag_comb = np.logical_and(flag_filter, obj_flag)\n",
    "        lc = alerts_flux[flag_comb]\n",
    "    \n",
    "        x = np.arange(0, max(lc['MJD'].values) - min(lc['MJD'].values) +1, 2)\n",
    "        flag_obj2 = alerts_features['id'].values == obj_id\n",
    "        y = fsigmoid(x, alerts_features[flag_obj2]['a_' + f[i]].values[0], \n",
    "                    alerts_features[flag_obj2]['b_' + f[i]].values[0],\n",
    "                    alerts_features[flag_obj2]['c_' + f[i]].values[0]) \n",
    "    \n",
    "        plt.subplot(1,2,i+1)\n",
    "        plt.title(f[i])\n",
    "        plt.errorbar(lc['MJD'], lc['FLUXCAL'], yerr=lc['FLUXCALERR'], fmt='o', label='obs')\n",
    "        plt.plot(min(lc['MJD'].values) + x,y, color='red', label='reconstruction')\n",
    "        plt.xlabel('MJD')\n",
    "        plt.ylabel('FLUXCAL')\n",
    "    \n",
    "    plt.show()"
   ]
  },
  {
   "cell_type": "code",
   "execution_count": 213,
   "id": "5b48e9d6-66d2-4426-af6f-fdd9d29fdead",
   "metadata": {
    "tags": []
   },
   "outputs": [],
   "source": [
    "train_updated_again = pd.concat([train_updated, alerts_use], ignore_index=True)"
   ]
  },
  {
   "cell_type": "code",
   "execution_count": 215,
   "id": "d931fae9-597c-486f-826b-2b3e55dddd77",
   "metadata": {
    "tags": []
   },
   "outputs": [
    {
     "data": {
      "text/plain": [
       "Index(['a_g', 'b_g', 'c_g', 'snratio_g', 'mse_g', 'nrise_g', 'a_r', 'b_r',\n",
       "       'c_r', 'snratio_r', 'mse_r', 'nrise_r', 'objectId', 'type', 'id'],\n",
       "      dtype='object')"
      ]
     },
     "execution_count": 215,
     "metadata": {},
     "output_type": "execute_result"
    }
   ],
   "source": [
    "train_updated_again.keys()"
   ]
  },
  {
   "cell_type": "code",
   "execution_count": 246,
   "id": "1e3a20e6-8ee0-4631-9875-6054e23aeaf3",
   "metadata": {
    "tags": []
   },
   "outputs": [
    {
     "data": {
      "text/plain": [
       "RandomForestClassifier(n_estimators=1000, random_state=42)"
      ]
     },
     "execution_count": 246,
     "metadata": {},
     "output_type": "execute_result"
    }
   ],
   "source": [
    "header = list(train_updated_again.keys())[:-3]\n",
    "\n",
    "clf = RandomForestClassifier(random_state=42, n_estimators=1000)\n",
    "clf.fit(train_updated_again[header], train_updated_again['type'].values == 'Ia')"
   ]
  },
  {
   "cell_type": "code",
   "execution_count": 247,
   "id": "4b1e3c74-bfe1-4e27-9fe8-a5eeddb0e19f",
   "metadata": {
    "tags": []
   },
   "outputs": [
    {
     "data": {
      "text/plain": [
       "1.0"
      ]
     },
     "execution_count": 247,
     "metadata": {},
     "output_type": "execute_result"
    }
   ],
   "source": [
    "clf.score(train_updated_again[header], train_updated_again['type'].values == 'Ia')"
   ]
  },
  {
   "cell_type": "code",
   "execution_count": 248,
   "id": "de25fc73-85b2-43bb-aee3-8d9602da9699",
   "metadata": {
    "tags": []
   },
   "outputs": [
    {
     "data": {
      "text/plain": [
       "0.948093532757531"
      ]
     },
     "execution_count": 248,
     "metadata": {},
     "output_type": "execute_result"
    }
   ],
   "source": [
    "clf.score(test_updated[header], test_updated['type'].values == 'Ia')"
   ]
  },
  {
   "cell_type": "code",
   "execution_count": 249,
   "id": "34a0b3bc-5234-4b0f-867b-9272c7f98706",
   "metadata": {
    "tags": []
   },
   "outputs": [],
   "source": [
    "pred = clf.predict(test_updated[header])\n",
    "pred_prob = clf.predict_proba(test_updated[header])"
   ]
  },
  {
   "cell_type": "code",
   "execution_count": 250,
   "id": "789b0abf-229d-4940-b8e3-da97f1a03db3",
   "metadata": {
    "tags": []
   },
   "outputs": [
    {
     "data": {
      "text/plain": [
       "(['accuracy', 'efficiency', 'purity', 'fom'],\n",
       " [0.948093532757531,\n",
       "  0.4823232323232323,\n",
       "  0.6496598639455783,\n",
       "  0.18424747474747474])"
      ]
     },
     "execution_count": 250,
     "metadata": {},
     "output_type": "execute_result"
    }
   ],
   "source": [
    "get_snpcc_metric(pred, test_updated['type'].values == 'Ia')"
   ]
  },
  {
   "cell_type": "code",
   "execution_count": 224,
   "id": "89de5039-edee-42dd-ab36-72e66788fc0c",
   "metadata": {
    "tags": []
   },
   "outputs": [
    {
     "data": {
      "image/png": "[encoded data removed]",
      "text/plain": [
       "<Figure size 576x360 with 1 Axes>"
      ]
     },
     "metadata": {
      "needs_background": "light"
     },
     "output_type": "display_data"
    }
   ],
   "source": [
    "plt.figure(figsize=(8,5))\n",
    "plt.hist(pred_prob[:,1], bins=30)\n",
    "plt.ylabel('N')\n",
    "plt.xlabel('Probability of being Ia')\n",
    "plt.show()"
   ]
  },
  {
   "cell_type": "code",
   "execution_count": 229,
   "id": "30c495ae-49de-4b84-8b38-3d795efb7a28",
   "metadata": {
    "tags": []
   },
   "outputs": [],
   "source": [
    "date_now = '20231009'\n",
    "\n",
    "dirname = '/media/emille/git/Fink/supernova_al/repository/al_real_time/data/' + date_now + '/' \n",
    "pickle.dump(clf, open(dirname + 'UncSampling/models/model_' + date_now + '.pkl', \n",
    "                      'wb'))"
   ]
  },
  {
   "cell_type": "code",
   "execution_count": 239,
   "id": "4924f3a3-691c-43b9-a9b0-fb5c3975d78e",
   "metadata": {
    "tags": []
   },
   "outputs": [
    {
     "data": {
      "text/plain": [
       "'/media/emille/git/Fink/fink-science/fink_science/data/models/for_al_loop/model_20231009.pkl'"
      ]
     },
     "execution_count": 239,
     "metadata": {},
     "output_type": "execute_result"
    }
   ],
   "source": [
    "# copy model to fink-science\n",
    "copy(dirname + '/UncSampling/models/model_' + date_now + '.pkl', \n",
    "     '/media/emille/git/Fink/fink-science/fink_science/data/models/for_al_loop/model_' + date_now + '.pkl')"
   ]
  },
  {
   "cell_type": "code",
   "execution_count": 240,
   "id": "2094bacb-85be-4326-9576-ba36fcce4f16",
   "metadata": {
    "tags": []
   },
   "outputs": [],
   "source": [
    "import sklearn"
   ]
  },
  {
   "cell_type": "code",
   "execution_count": 241,
   "id": "5008599f-9a64-4a27-a1ad-905f897e6cc6",
   "metadata": {
    "tags": []
   },
   "outputs": [
    {
     "data": {
      "text/plain": [
       "'1.0.2'"
      ]
     },
     "execution_count": 241,
     "metadata": {},
     "output_type": "execute_result"
    }
   ],
   "source": [
    "sklearn.__version__"
   ]
  },
  {
   "cell_type": "code",
   "execution_count": 252,
   "id": "08171c54-8758-481c-a1fd-3ae15277166f",
   "metadata": {},
   "outputs": [],
   "source": [
    "train_updated_again.to_csv('/media/emille/git/Fink/supernova_al/repository/al_real_time/' + \\\n",
    "                           'data/' + date_now +'/UncSampling/training_samples/train_updated_again.csv', index=False)"
   ]
  },
  {
   "cell_type": "code",
   "execution_count": 253,
   "id": "564c546c-8ef8-4aa1-9337-68fb0e5f9053",
   "metadata": {
    "tags": []
   },
   "outputs": [],
   "source": [
    "test_updated.to_csv('/media/emille/git/Fink/supernova_al/repository/al_real_time/' + \\\n",
    "                           'data/' + date_now + '/UncSampling/test_samples/test_updated.csv', index=False)"
   ]
  },
  {
   "cell_type": "code",
   "execution_count": 254,
   "id": "28390d62-5c22-4f02-97f6-bea2c7da9f6d",
   "metadata": {
    "tags": []
   },
   "outputs": [],
   "source": [
    "alerts_use.to_csv('/media/emille/git/Fink/supernova_al/repository/al_real_time/' + \\\n",
    "                           'data/' + date_now + '/UncSampling/queries/queries_real_data.csv', index=False)"
   ]
  },
  {
   "cell_type": "code",
   "execution_count": null,
   "id": "3ed0df5c-eab0-4d69-ba1b-194c8efd1c6f",
   "metadata": {},
   "outputs": [],
   "source": []
  }
 ],
 "metadata": {
  "kernelspec": {
   "display_name": "Python 3",
   "language": "python",
   "name": "python3"
  },
  "language_info": {
   "codemirror_mode": {
    "name": "ipython",
    "version": 3
   },
   "file_extension": ".py",
   "mimetype": "text/x-python",
   "name": "python",
   "nbconvert_exporter": "python",
   "pygments_lexer": "ipython3",
   "version": "3.7.1"
  }
 },
 "nbformat": 4,
 "nbformat_minor": 5
}

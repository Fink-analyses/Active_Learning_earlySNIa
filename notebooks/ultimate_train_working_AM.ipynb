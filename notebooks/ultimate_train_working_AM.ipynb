{
 "cells": [
  {
   "cell_type": "code",
   "execution_count": 1,
   "id": "957a41ee-42ce-42ca-9ea7-aaf69f8658aa",
   "metadata": {
    "tags": []
   },
   "outputs": [],
   "source": [
    "import numpy as np\n",
    "import pandas as pd\n",
    "from actsnfink import *\n",
    "from datetime import datetime\n",
    "from myutils import loop_utils as lu\n",
    "from myutils import plot_utils as pu\n",
    "from myutils import data_utils as du\n",
    "from astropy.time import Time, TimeDelta\n"
   ]
  },
  {
   "cell_type": "markdown",
   "id": "ace26004-f8a7-4e28-a2a3-3579d99337de",
   "metadata": {},
   "source": [
    "# Initial model\n",
    "\n",
    "Model trained with 30 spectroscopically classified SNe light-curves. Using a subset of training set in Leoni et al. 2021"
   ]
  },
  {
   "cell_type": "code",
   "execution_count": 2,
   "id": "a8909199-f85d-4a9b-b074-395b28421e86",
   "metadata": {
    "tags": []
   },
   "outputs": [],
   "source": [
    "retrain_all_models = True\n",
    "strategy = 'UncSampling'            # query strategy"
   ]
  },
  {
   "cell_type": "code",
   "execution_count": 3,
   "id": "be607c73-6bf3-4843-addc-5a2fec03e59f",
   "metadata": {
    "tags": []
   },
   "outputs": [
    {
     "name": "stdout",
     "output_type": "stream",
     "text": [
      "Number of training light-curves 40\n",
      "['accuracy 0.47', 'efficiency 0.26', 'purity 0.87', 'fom 0.18']\n"
     ]
    }
   ],
   "source": [
    "# read train and test data\n",
    "initial_train_for_loop = pd.read_csv( '../data/initial_state/' + strategy + \\\n",
    "                                           '/training_samples/train_after_loop.csv', \n",
    "                                           index_col=False)\n",
    "\n",
    "test_for_loop = pd.read_csv('../data/initial_state/' + strategy + \\\n",
    "                                           '/test_samples/test_after_loop.csv', \n",
    "                                           index_col=False)\n",
    "\n",
    "# select subset of test: only SNe\n",
    "test_for_loop['type'].unique()\n",
    "type_list = ['SN','SNII','Ia', 'SLSN-I','SNIIP', 'SNIIn', 'SLSN-II', 'SNIc', 'SNIb', 'SNIIb', 'SNI','SNIb-pec', 'SNIc-BL','SNII-pec','SNIbn']\n",
    "test_for_loop = test_for_loop[test_for_loop['type'].isin(type_list)]\n",
    "\n",
    "\n",
    "# train\n",
    "lu.train_and_test_initial_model(initial_train_for_loop,test_for_loop,strategy)\n"
   ]
  },
  {
   "cell_type": "markdown",
   "id": "2c221192",
   "metadata": {},
   "source": [
    "# Data\n",
    "\n",
    "### TNS classifications within time-range of experiment"
   ]
  },
  {
   "cell_type": "code",
   "execution_count": 4,
   "id": "08570c43",
   "metadata": {},
   "outputs": [],
   "source": [
    "# read TNS labels\n",
    "df_tns_w_ztfdata = du.load_TNS_Fink('../classifications/tns_fink_20230817.parquet')\n",
    "dic_allTNS_labels = lu.convert_DF_dic_labels(df_tns_w_ztfdata)\n",
    "\n",
    "# classified by ZTF\n",
    "ztf_tns = df_tns_w_ztfdata[df_tns_w_ztfdata['reporting_group']=='ZTF']\n",
    "print(f\"ZTF detected and spectroscopically classified {len(ztf_tns)} (not necessarily all have enough epochs for classification)\")\n",
    "dic_ztf_labels = lu.convert_DF_dic_labels(ztf_tns)\n"
   ]
  },
  {
   "cell_type": "markdown",
   "id": "60ade70a",
   "metadata": {},
   "source": [
    "### Fink Siding Spring Observatory follow-up \n",
    "Fink programme to acquire labels for those candidates around P_Ia ~0.5"
   ]
  },
  {
   "cell_type": "code",
   "execution_count": 7,
   "id": "f41c858c",
   "metadata": {},
   "outputs": [
    {
     "name": "stdout",
     "output_type": "stream",
     "text": [
      "Adding 0       classifications from TNS to Fink AL\n"
     ]
    }
   ],
   "source": [
    "# read labels\n",
    "df_Fink_AL = pd.read_csv('../classifications/ALbot_with_classifications_curated_original.tsv', sep='\\t')\n",
    "\n",
    "df_Fink_AL['fup_jd'] = [Time(datetime.strptime(d[0], '%d/%m/%Y')).jd for d in df_Fink_AL[['Appears in bot']].values]\n",
    "df_Fink_AL['tmp'] = [datetime.strptime(d[0], '%d/%m/%Y') for d in df_Fink_AL[['Appears in bot']].values]\n",
    "df_Fink_AL['fup_jd_strfmt'] = df_Fink_AL.loc[:,'tmp'].apply(lambda x: du.add_days_and_format(Time(x), 0))\n",
    "\n",
    "# some of the Fink AL identified objects might have been classified by another group and reported to TNS\n",
    "print(f\"Adding {len(df_Fink_AL[df_Fink_AL['ztf_names'].isin(df_tns_w_ztfdata['ztf_names']) & df_Fink_AL['Classification'].isna()])} \\\n",
    "      classifications from TNS to Fink AL\")\n",
    "\n",
    "# Fill classification with TNS type if missing\n",
    "df_merged = pd.merge(df_Fink_AL, df_tns_w_ztfdata, how='left', on='ztf_names')\n",
    "df_merged['Classification'] = df_merged.apply(lambda row: row.type if row.Classification is None else row.Classification, axis=1)\n",
    "# Drop the 'type' column since it's now renamed\n",
    "df_merged = df_merged.drop(columns=['type'])\n",
    "# keeep only those with classification\n",
    "df_Fink_AL_w_classifications = df_merged[df_merged['Classification'].notna()]\n",
    "df_Fink_AL_w_classifications.reset_index(drop=True, inplace=True)\n",
    "\n",
    "# reformat type for AL loop\n",
    "df_Fink_AL_w_classifications['type AL'] = df_Fink_AL_w_classifications.loc[:,'Classification'].apply(lambda x: 'Ia' if 'Ia' in x else 'other')\n",
    "\n",
    "# sort\n",
    "df_Fink_AL_w_classifications = df_Fink_AL_w_classifications.sort_values(by='fup_jd')\n",
    "\n",
    "# convert to AL format\n",
    "new_labels = lu.convert_DF_dic_labels(df_Fink_AL_w_classifications, key_spectra='fup_jd')"
   ]
  },
  {
   "cell_type": "code",
   "execution_count": 8,
   "id": "520ff0a2-9c6c-49af-ab9f-7d51a0c7d8c9",
   "metadata": {},
   "outputs": [
    {
     "name": "stdout",
     "output_type": "stream",
     "text": [
      "20230924\n",
      "Read initial state\n",
      "New alerts to use 1\n",
      "    train_updated.shape =  (41, 15)\n",
      "   res =  [np.float64(0.4478632478632479), np.float64(0.21865154379332072), np.float64(0.8696741854636592), np.float64(0.15083913657312584)]\n",
      "20230925\n",
      "Read 20230924 state\n",
      "New alerts to use 1\n",
      "    train_updated.shape =  (42, 15)\n",
      "   res =  [np.float64(0.4478632478632479), np.float64(0.2180214240705734), np.float64(0.871536523929471), np.float64(0.15117317180043768)]\n",
      "20230926\n",
      "Read 20230925 state\n",
      "Missing 0    ZTF23abceaws\n",
      "Name: id, dtype: object\n",
      "             id   type           MJD FLT        FLUXCAL    FLUXCALERR\n",
      "0  ZTF23abceaws  other  2.460213e+06   g   39084.449559   2052.957962\n",
      "1  ZTF23abceaws  other  2.460210e+06   g   15908.484165   2119.210286\n",
      "2  ZTF23abceaws  other  2.460207e+06   g   68928.749559   2548.997318\n",
      "3  ZTF23abceaws  other  2.460205e+06   g   46760.591915   1573.235369\n",
      "4  ZTF23abceaws  other  2.460203e+06   g   29246.910762   1271.715389\n",
      "5  ZTF23abceaws  other  2.460201e+06   g   31062.757053   1301.491719\n",
      "6  ZTF23abceaws  other  2.460199e+06   g   13508.278317    734.725748\n",
      "7  ZTF23abceaws  other  2.460213e+06   r  523688.214139  23891.527746\n",
      "8  ZTF23abceaws  other  2.460210e+06   r  319595.017481   4735.043235\n",
      "20230929\n",
      "Read 20230925 state\n",
      "New alerts to use 2\n",
      "    train_updated.shape =  (44, 15)\n",
      "   res =  [np.float64(0.4739316239316239), np.float64(0.26717076244486454), np.float64(0.8617886178861789), np.float64(0.18038280776532253)]\n",
      "20231005\n",
      "Read 20230929 state\n",
      "New alerts to use 2\n",
      "    train_updated.shape =  (46, 15)\n",
      "   res =  [np.float64(0.47692307692307695), np.float64(0.2684310018903592), np.float64(0.8711656441717791), np.float64(0.18593757204112682)]\n",
      "20231006\n",
      "Read 20231005 state\n",
      "New alerts to use 3\n",
      "    train_updated.shape =  (49, 15)\n",
      "   res =  [np.float64(0.4811965811965812), np.float64(0.28733459357277885), np.float64(0.8460111317254174), np.float64(0.1858504605236697)]\n",
      "20231009\n",
      "Read 20231006 state\n",
      "New alerts to use 5\n",
      "    train_updated.shape =  (54, 15)\n",
      "   res =  [np.float64(0.4952991452991453), np.float64(0.3163201008191556), np.float64(0.8394648829431438), np.float64(0.20100340583698245)]\n",
      "20231013\n",
      "Read 20231009 state\n",
      "New alerts to use 1\n",
      "    train_updated.shape =  (55, 15)\n",
      "   res =  [np.float64(0.5162393162393163), np.float64(0.3484562066792691), np.float64(0.8494623655913979), np.float64(0.2275044655178699)]\n",
      "20231015\n",
      "Read 20231013 state\n",
      "New alerts to use 6\n",
      "    train_updated.shape =  (61, 15)\n",
      "   res =  [np.float64(0.5367521367521367), np.float64(0.391304347826087), np.float64(0.8403247631935047), np.float64(0.24923076923076923)]\n",
      "20231018\n",
      "Read 20231015 state\n",
      "New alerts to use 3\n",
      "    train_updated.shape =  (64, 15)\n",
      "   res =  [np.float64(0.5470085470085471), np.float64(0.4064272211720227), np.float64(0.8453473132372215), np.float64(0.2624079656215762)]\n",
      "20231019\n",
      "Read 20231018 state\n",
      "New alerts to use 3\n",
      "    train_updated.shape =  (67, 15)\n",
      "   res =  [np.float64(0.5525641025641026), np.float64(0.41965973534971646), np.float64(0.8409090909090909), np.float64(0.26771396910240536)]\n",
      "20231022\n",
      "Read 20231019 state\n",
      "New alerts to use 1\n",
      "    train_updated.shape =  (68, 15)\n",
      "   res =  [np.float64(0.5683760683760684), np.float64(0.44864524259609323), np.float64(0.8406139315230224), np.float64(0.2859761976082528)]\n",
      "20240224\n",
      "Read 20231022 state\n",
      "New alerts to use 1\n",
      "    train_updated.shape =  (69, 15)\n",
      "   res =  [np.float64(0.5764957264957264), np.float64(0.4580970384373031), np.float64(0.8473193473193473), np.float64(0.2973540597713566)]\n",
      "20240229\n",
      "Read 20240224 state\n",
      "New alerts to use 1\n",
      "    train_updated.shape =  (70, 15)\n",
      "   res =  [np.float64(0.573076923076923), np.float64(0.4530560806553245), np.float64(0.8458823529411764), np.float64(0.2929382392006999)]\n",
      "20240404\n",
      "Read 20240229 state\n",
      "New alerts to use 1\n",
      "    train_updated.shape =  (71, 15)\n",
      "   res =  [np.float64(0.5846153846153846), np.float64(0.47448015122873344), np.float64(0.8451178451178452), np.float64(0.30615557315787173)]\n",
      "20240405\n",
      "Read 20240404 state\n",
      "New alerts to use 1\n",
      "    train_updated.shape =  (72, 15)\n",
      "   res =  [np.float64(0.5739316239316239), np.float64(0.4555765595463138), np.float64(0.844626168224299), np.float64(0.29356671350444286)]\n",
      "20240409\n",
      "Read 20240405 state\n",
      "New alerts to use 2\n",
      "    train_updated.shape =  (74, 15)\n",
      "   res =  [np.float64(0.57991452991453), np.float64(0.465658475110271), np.float64(0.8455377574370709), np.float64(0.30080560586231664)]\n",
      "20240410\n",
      "Read 20240409 state\n",
      "New alerts to use 2\n",
      "    train_updated.shape =  (76, 15)\n",
      "   res =  [np.float64(0.5863247863247864), np.float64(0.48015122873345933), np.float64(0.8419889502762431), np.float64(0.307200030474304)]\n",
      "20240412\n",
      "Read 20240410 state\n",
      "New alerts to use 1\n",
      "    train_updated.shape =  (77, 15)\n",
      "   res =  [np.float64(0.5893162393162393), np.float64(0.4870825456836799), np.float64(0.8402173913043478), np.float64(0.3101439932565771)]\n",
      "20240413\n",
      "Read 20240412 state\n",
      "New alerts to use 1\n",
      "    train_updated.shape =  (78, 15)\n",
      "   res =  [np.float64(0.5935897435897436), np.float64(0.49779458097038437), np.float64(0.836864406779661), np.float64(0.3141036093982457)]\n",
      "20240414\n",
      "Read 20240413 state\n",
      "New alerts to use 1\n",
      "    train_updated.shape =  (79, 15)\n",
      "   res =  [np.float64(0.5944444444444444), np.float64(0.4914933837429111), np.float64(0.8459869848156182), np.float64(0.317881292968052)]\n",
      "20240417\n",
      "Read 20240414 state\n",
      "New alerts to use 1\n",
      "    train_updated.shape =  (80, 15)\n",
      "   res =  [np.float64(0.5991452991452991), np.float64(0.499054820415879), np.float64(0.8470588235294118), np.float64(0.323711234864354)]\n",
      "20240418\n",
      "Read 20240417 state\n",
      "New alerts to use 2\n",
      "    train_updated.shape =  (82, 15)\n",
      "   res =  [np.float64(0.597008547008547), np.float64(0.49401386263390046), np.float64(0.8484848484848485), np.float64(0.3216834454360282)]\n",
      "20240421\n",
      "Read 20240418 state\n",
      "New alerts to use 1\n",
      "    train_updated.shape =  (83, 15)\n",
      "   res =  [np.float64(0.6038461538461538), np.float64(0.502835538752363), np.float64(0.8525641025641025), np.float64(0.33107488442606076)]\n",
      "20240423\n",
      "Read 20240421 state\n",
      "New alerts to use 1\n",
      "    train_updated.shape =  (84, 15)\n",
      "   res =  [np.float64(0.5931623931623932), np.float64(0.4845620667926906), np.float64(0.8516057585825028), np.float64(0.3182136886110838)]\n",
      "20240503\n",
      "Read 20240423 state\n",
      "New alerts to use 3\n",
      "    train_updated.shape =  (87, 15)\n",
      "   res =  [np.float64(0.5995726495726496), np.float64(0.4914933837429111), np.float64(0.8571428571428571), np.float64(0.3276622558286074)]\n",
      "20240504\n",
      "Read 20240503 state\n",
      "New alerts to use 1\n",
      "    train_updated.shape =  (88, 15)\n",
      "   res =  [np.float64(0.5974358974358974), np.float64(0.48897290485192185), np.float64(0.8555678059536935), np.float64(0.32458765967929115)]\n",
      "20240505\n",
      "Read 20240504 state\n",
      "New alerts to use 2\n",
      "    train_updated.shape =  (90, 15)\n",
      "   res =  [np.float64(0.5935897435897436), np.float64(0.48330182734719596), np.float64(0.8541202672605791), np.float64(0.31956250135801667)]\n",
      "20240507\n",
      "Read 20240505 state\n",
      "New alerts to use 5\n",
      "    train_updated.shape =  (95, 15)\n",
      "   res =  [np.float64(0.6021367521367521), np.float64(0.4902331442974165), np.float64(0.8644444444444445), np.float64(0.333392820160306)]\n",
      "20240508\n",
      "Read 20240507 state\n",
      "New alerts to use 2\n",
      "    train_updated.shape =  (97, 15)\n",
      "   res =  [np.float64(0.611965811965812), np.float64(0.5034656584751103), np.float64(0.8694232861806311), np.float64(0.34708288276239263)]\n",
      "20240510\n",
      "Read 20240508 state\n",
      "New alerts to use 1\n",
      "    train_updated.shape =  (98, 15)\n",
      "   res =  [np.float64(0.6123931623931624), np.float64(0.5053560176433523), np.float64(0.8679653679653679), np.float64(0.34699959430647986)]\n",
      "20240514\n",
      "Read 20240510 state\n",
      "New alerts to use 1\n",
      "    train_updated.shape =  (99, 15)\n",
      "   res =  [np.float64(0.6217948717948718), np.float64(0.518588531821046), np.float64(0.871822033898305), np.float64(0.3598637113732891)]\n",
      "20240515\n",
      "Read 20240514 state\n",
      "New alerts to use 1\n",
      "    train_updated.shape =  (100, 15)\n",
      "   res =  [np.float64(0.6200854700854701), np.float64(0.5154379332073094), np.float64(0.8720682302771855), np.float64(0.35791870064819953)]\n",
      "20240521\n",
      "Read 20240515 state\n",
      "Missing 0    ZTF24aaomuhe\n",
      "Name: id, dtype: object\n",
      "             id type           MJD FLT      FLUXCAL  FLUXCALERR\n",
      "0  ZTF24aaomuhe   Ia  2.460452e+06   g  3439.252012  390.137330\n",
      "1  ZTF24aaomuhe   Ia  2.460450e+06   g  1671.632476  164.100372\n",
      "2  ZTF24aaomuhe   Ia  2.460452e+06   r  3875.009754  232.631033\n",
      "20240601\n",
      "Read 20240515 state\n",
      "New alerts to use 1\n",
      "    train_updated.shape =  (101, 15)\n",
      "   res =  [np.float64(0.6166666666666667), np.float64(0.5116572148708255), np.float64(0.8693790149892934), np.float64(0.3526873161927931)]\n",
      "20240622\n",
      "Read 20240601 state\n",
      "New alerts to use 2\n",
      "    train_updated.shape =  (103, 15)\n",
      "   res =  [np.float64(0.620940170940171), np.float64(0.5211090107120353), np.float64(0.8668763102725366), np.float64(0.35675260915467977)]\n",
      "20240624\n",
      "Read 20240622 state\n",
      "Missing 0    ZTF24aasfxgh\n",
      "Name: id, dtype: object\n",
      "             id type           MJD FLT      FLUXCAL  FLUXCALERR\n",
      "0  ZTF24aasfxgh   Ia  2.460485e+06   g  3042.621992  598.052348\n",
      "1  ZTF24aasfxgh   Ia  2.460485e+06   r  3456.046682  485.914527\n",
      "2  ZTF24aasfxgh   Ia  2.460483e+06   r  2645.442949  514.858203\n",
      "20240627\n",
      "Read 20240622 state\n",
      "New alerts to use 2\n",
      "    train_updated.shape =  (105, 15)\n",
      "   res =  [np.float64(0.6188034188034188), np.float64(0.5129174543163201), np.float64(0.872454448017149), np.float64(0.3565455233249228)]\n",
      "20240628\n",
      "Read 20240627 state\n",
      "New alerts to use 1\n",
      "    train_updated.shape =  (106, 15)\n",
      "   res =  [np.float64(0.614957264957265), np.float64(0.5110270951480781), np.float64(0.8664529914529915), np.float64(0.3494460153162659)]\n",
      "20240629\n",
      "Read 20240628 state\n",
      "New alerts to use 1\n",
      "    train_updated.shape =  (107, 15)\n",
      "   res =  [np.float64(0.6188034188034188), np.float64(0.5173282923755513), np.float64(0.866948257655755), np.float64(0.3542339683405568)]\n",
      "20240703\n",
      "Read 20240629 state\n",
      "New alerts to use 1\n",
      "    train_updated.shape =  (108, 15)\n",
      "   res =  [np.float64(0.620940170940171), np.float64(0.518588531821046), np.float64(0.8699788583509513), np.float64(0.35805231685295374)]\n",
      "20240706\n",
      "Read 20240703 state\n",
      "New alerts to use 1\n",
      "    train_updated.shape =  (109, 15)\n",
      "   res =  [np.float64(0.6136752136752137), np.float64(0.5078764965343415), np.float64(0.8675995694294941), np.float64(0.3483816648567484)]\n",
      "20240708\n",
      "Read 20240706 state\n",
      "New alerts to use 1\n",
      "    train_updated.shape =  (110, 15)\n",
      "   res =  [np.float64(0.6141025641025641), np.float64(0.5116572148708255), np.float64(0.8638297872340426), np.float64(0.3473793131062795)]\n",
      "20240709\n",
      "Read 20240708 state\n",
      "New alerts to use 1\n",
      "    train_updated.shape =  (111, 15)\n",
      "   res =  [np.float64(0.6145299145299146), np.float64(0.5122873345935728), np.float64(0.8639744952178533), np.float64(0.3479445305134291)]\n",
      "20240711\n",
      "Read 20240709 state\n",
      "New alerts to use 1\n",
      "    train_updated.shape =  (112, 15)\n",
      "   res =  [np.float64(0.6111111111111112), np.float64(0.5034656584751103), np.float64(0.8675352877307275), np.float64(0.3452953314348611)]\n",
      "20240719\n",
      "Read 20240711 state\n",
      "New alerts to use 2\n",
      "    train_updated.shape =  (114, 15)\n",
      "   res =  [np.float64(0.6222222222222222), np.float64(0.5211090107120353), np.float64(0.8696109358569927), np.float64(0.3594304852867833)]\n",
      "20240720\n",
      "Read 20240719 state\n",
      "New alerts to use 1\n",
      "    train_updated.shape =  (115, 15)\n",
      "   res =  [np.float64(0.617948717948718), np.float64(0.516698172652804), np.float64(0.8658922914466737), np.float64(0.35278309873047403)]\n",
      "20240722\n",
      "Read 20240720 state\n",
      "New alerts to use 1\n",
      "    train_updated.shape =  (116, 15)\n",
      "   res =  [np.float64(0.6252136752136752), np.float64(0.5261499684940139), np.float64(0.8697916666666666), np.float64(0.36308696172934013)]\n",
      "20240724\n",
      "Read 20240722 state\n",
      "New alerts to use 2\n",
      "    train_updated.shape =  (118, 15)\n",
      "   res =  [np.float64(0.6256410256410256), np.float64(0.5305608065532451), np.float64(0.8653648509763617), np.float64(0.3617264770184877)]\n",
      "20240729\n",
      "Read 20240724 state\n",
      "New alerts to use 1\n",
      "    train_updated.shape =  (119, 15)\n",
      "   res =  [np.float64(0.629059829059829), np.float64(0.5356017643352237), np.float64(0.8664627930682977), np.float64(0.36626025718820604)]\n",
      "20240731\n",
      "Read 20240729 state\n",
      "New alerts to use 1\n",
      "    train_updated.shape =  (120, 15)\n",
      "   res =  [np.float64(0.632051282051282), np.float64(0.5393824826717076), np.float64(0.8681541582150102), np.float64(0.3705548998129869)]\n",
      "20240804\n",
      "Read 20240731 state\n",
      "New alerts to use 1\n",
      "    train_updated.shape =  (121, 15)\n",
      "   res =  [np.float64(0.6405982905982905), np.float64(0.5494643982356647), np.float64(0.87374749498998), np.float64(0.3833063642091997)]\n",
      "20240805\n",
      "Read 20240804 state\n",
      "20240806\n",
      "Read 20240804 state\n",
      "New alerts to use 1\n",
      "    train_updated.shape =  (122, 15)\n",
      "   res =  [np.float64(0.6367521367521367), np.float64(0.5406427221172023), np.float64(0.8764044943820225), np.float64(0.3799111020283043)]\n",
      "20240807\n",
      "Read 20240806 state\n",
      "New alerts to use 1\n",
      "    train_updated.shape =  (123, 15)\n",
      "   res =  [np.float64(0.635042735042735), np.float64(0.5393824826717076), np.float64(0.874361593462717), np.float64(0.3769072695240667)]\n",
      "20240808\n",
      "Read 20240807 state\n",
      "New alerts to use 2\n",
      "    train_updated.shape =  (125, 15)\n",
      "   res =  [np.float64(0.638034188034188), np.float64(0.5469439193446755), np.float64(0.8714859437751004), np.float64(0.37919115175014245)]\n",
      "20240811\n",
      "Read 20240808 state\n",
      "New alerts to use 1\n",
      "    train_updated.shape =  (126, 15)\n",
      "   res =  [np.float64(0.6405982905982905), np.float64(0.5519848771266541), np.float64(0.8707753479125249), np.float64(0.3819421424667844)]\n",
      "20240812\n",
      "Read 20240811 state\n",
      "New alerts to use 3\n",
      "    train_updated.shape =  (129, 15)\n",
      "   res =  [np.float64(0.6367521367521367), np.float64(0.5437933207309389), np.float64(0.8725985844287159), np.float64(0.3781576436670429)]\n",
      "20240813\n",
      "Read 20240812 state\n",
      "New alerts to use 1\n",
      "    train_updated.shape =  (130, 15)\n",
      "   res =  [np.float64(0.6388888888888888), np.float64(0.5469439193446755), np.float64(0.8732394366197183), np.float64(0.3810171123524706)]\n"
     ]
    }
   ],
   "source": [
    "if retrain_all_models:\n",
    "    metrics_fink_all = lu.AL_loop(new_labels,strategy, test_for_loop, dir_suffix =\"fink\", proba_cut = False, plot_lcs=False,verbose=True)\n",
    "else:\n",
    "    metrics_fink_all = pd.read_csv('../dump/data_fink/' + \"metrics.csv\")\n",
    "    "
   ]
  },
  {
   "cell_type": "markdown",
   "id": "af0daa60-2148-4704-a53e-cfb43ff3da1e",
   "metadata": {},
   "source": [
    "## All ZTF reported classifications (from TNS)"
   ]
  },
  {
   "cell_type": "code",
   "execution_count": 9,
   "id": "e3d89917-38d1-4376-ac0a-4dcebebef970",
   "metadata": {},
   "outputs": [],
   "source": [
    "# Function to convert Time object to desired format\n",
    "def add_days_and_format(x,days):\n",
    "    time_obj = Time(x, format='iso') + TimeDelta(days, format='jd')\n",
    "    dt = time_obj.datetime \n",
    "    return f\"{dt.year}{dt.month:02d}{dt.day:02d}\""
   ]
  },
  {
   "cell_type": "code",
   "execution_count": 10,
   "id": "5924a081-b852-46ac-8cc0-f5448421d12c",
   "metadata": {},
   "outputs": [
    {
     "name": "stdout",
     "output_type": "stream",
     "text": [
      "Read initial state\n",
      "Read 20231006 state\n",
      "Read 20231016 state\n",
      "Read 20231017 state\n",
      "Read 20231017 state\n",
      "Read 20231021 state\n",
      "Read 20231022 state\n",
      "Read 20231025 state\n",
      "Read 20231026 state\n",
      "Read 20231026 state\n",
      "Read 20240408 state\n",
      "Read 20240408 state\n",
      "Read 20240408 state\n",
      "Read 20240415 state\n",
      "Read 20240416 state\n",
      "Read 20240419 state\n",
      "Read 20240420 state\n",
      "Read 20240420 state\n",
      "Read 20240420 state\n",
      "Read 20240424 state\n",
      "Read 20240425 state\n",
      "Read 20240426 state\n",
      "Read 20240428 state\n",
      "Empty data for ZTF24aajznoi or error in request <Response [200]>\n",
      "Empty data for ZTF18aauotcv or error in request <Response [200]>\n",
      "Read 20240430 state\n",
      "Read 20240501 state\n",
      "Read 20240502 state\n",
      "Empty data for ZTF24aakrsww or error in request <Response [200]>\n",
      "Read 20240503 state\n",
      "Read 20240503 state\n",
      "Read 20240503 state\n",
      "Read 20240510 state\n",
      "Read 20240511 state\n",
      "Read 20240511 state\n",
      "Read 20240511 state\n",
      "Read 20240514 state\n",
      "Read 20240515 state\n",
      "Read 20240515 state\n",
      "Read 20240515 state\n",
      "Empty data for ZTF24aamjepg or error in request <Response [200]>\n",
      "Empty data for ZTF24aalqrpc or error in request <Response [200]>\n",
      "Read 20240515 state\n",
      "Read 20240520 state\n",
      "Read 20240521 state\n",
      "Read 20240523 state\n",
      "Read 20240523 state\n",
      "Read 20240523 state\n",
      "Read 20240523 state\n",
      "Read 20240527 state\n",
      "Empty data for ZTF24aaoasjl or error in request <Response [200]>\n",
      "Read 20240528 state\n",
      "Read 20240528 state\n",
      "Read 20240528 state\n",
      "Read 20240528 state\n",
      "Read 20240601 state\n",
      "Read 20240601 state\n",
      "Read 20240628 state\n",
      "Read 20240701 state\n",
      "Read 20240702 state\n",
      "Read 20240703 state\n",
      "Read 20240704 state\n",
      "Read 20240705 state\n",
      "Read 20240706 state\n"
     ]
    }
   ],
   "source": [
    "if retrain_all_models:\n",
    "    metrics_ztf = lu.AL_loop(dic_ztf_labels, strategy, test_for_loop, dir_suffix='ZTF', proba_cut = False,verbose=False, plot_lcs=False)\n",
    "else:\n",
    "    metrics_ztf = pd.read_csv('../dump/data_ZTF/' + \"metrics.csv\")"
   ]
  },
  {
   "cell_type": "markdown",
   "id": "c0596205",
   "metadata": {},
   "source": [
    "### all labels in literature with ZTF data\n"
   ]
  },
  {
   "cell_type": "code",
   "execution_count": 11,
   "id": "67446a20",
   "metadata": {},
   "outputs": [
    {
     "name": "stdout",
     "output_type": "stream",
     "text": [
      "Read initial state\n",
      "Empty data for ZTF23abglsmj or error in request <Response [502]>\n",
      "No previous date found\n",
      "Read initial state\n",
      "Read 20231004 state\n",
      "Read 20231004 state\n",
      "Read 20231006 state\n",
      "Read 20231007 state\n",
      "Read 20231008 state\n",
      "Read 20231009 state\n",
      "Read 20231011 state\n",
      "Read 20231011 state\n",
      "Read 20231014 state\n",
      "Empty data for ZTF23abmsmzq or error in request <Response [200]>\n",
      "Read 20231015 state\n",
      "Read 20231016 state\n",
      "Read 20231017 state\n",
      "Read 20231018 state\n",
      "Read 20231019 state\n",
      "Read 20231020 state\n",
      "Read 20231021 state\n",
      "Read 20231022 state\n",
      "Read 20231023 state\n",
      "Read 20231025 state\n",
      "Read 20231025 state\n",
      "Read 20231025 state\n",
      "Read 20231025 state\n",
      "Read 20231025 state\n",
      "Read 20240408 state\n",
      "Read 20240409 state\n",
      "Read 20240410 state\n",
      "Read 20240410 state\n",
      "Read 20240413 state\n",
      "Read 20240414 state\n",
      "Read 20240414 state\n",
      "Read 20240419 state\n",
      "Read 20240419 state\n",
      "Read 20240419 state\n",
      "Read 20240423 state\n",
      "Read 20240424 state\n",
      "Read 20240425 state\n",
      "Read 20240426 state\n",
      "Read 20240427 state\n",
      "Empty data for ZTF24aajzmzf or error in request <Response [200]>\n",
      "Read 20240428 state\n",
      "Empty data for ZTF24aajznoi or error in request <Response [200]>\n",
      "Empty data for ZTF18aauotcv or error in request <Response [200]>\n",
      "Read 20240430 state\n",
      "Read 20240501 state\n",
      "Read 20240502 state\n",
      "Empty data for ZTF24aakrsww or error in request <Response [200]>\n",
      "Read 20240503 state\n",
      "Empty data for ZTF24aakudig or error in request <Response [200]>\n",
      "Read 20240503 state\n",
      "Read 20240503 state\n",
      "Read 20240507 state\n",
      "Read 20240507 state\n",
      "Empty data for ZTF24aarrotz or error in request <Response [200]>\n",
      "Read 20240507 state\n",
      "Read 20240510 state\n",
      "Read 20240511 state\n"
     ]
    }
   ],
   "source": [
    "if retrain_all_models:\n",
    "    metrics_allTNS = lu.AL_loop(dic_allTNS_labels, strategy, test_for_loop, dir_suffix='allTNS', proba_cut = False,verbose=False, plot_lcs=False)\n",
    "else:\n",
    "    metrics_allTNS = pd.read_csv('../dump/data_allTNS/' + \"metrics.csv\")\n"
   ]
  },
  {
   "cell_type": "markdown",
   "id": "ff57144a",
   "metadata": {},
   "source": [
    "### Analysis"
   ]
  },
  {
   "cell_type": "code",
   "execution_count": 12,
   "id": "d9dea399-1afa-474c-8894-596362887540",
   "metadata": {},
   "outputs": [],
   "source": [
    "# date reformatting to align with all dates in our metrics\n",
    "all_dates = np.concat([metrics_fink_all['date'].astype(int).values,metrics_allTNS['date'].astype(int).values, metrics_ztf['date'].astype(int).values])\n",
    "all_dates = np.unique(all_dates)\n",
    "\n",
    "# reformatting\n",
    "metrics_fink_all['date'] = metrics_fink_all['date'].astype(int)\n",
    "# lets put the date_plot in the same baseline using the combining dataset\n",
    "to_merge = pd.DataFrame({'date':all_dates, 'date_plot_universal':np.arange(0,len(all_dates))})\n",
    "metrics_fink_all_plot = pd.merge(metrics_fink_all, to_merge, on='date',how='left')\n",
    "metrics_ztf['date'] = metrics_ztf['date'].astype(int)\n",
    "metrics_ztf_plot = pd.merge(metrics_ztf, to_merge, on='date',how='left')\n",
    "metrics_allTNS['date'] = metrics_allTNS['date'].astype(int)\n",
    "metrics_allTNS_plot = pd.merge(metrics_allTNS, to_merge, on='date',how='left')"
   ]
  },
  {
   "cell_type": "code",
   "execution_count": 1,
   "id": "73a3ed64-e4a4-4638-bca6-895cdac1910a",
   "metadata": {},
   "outputs": [],
   "source": [
    "# not completely true as ZTF spectra dates are different than Fink AL ones\n",
    "# pu.plot_metrics_listdf([metrics_fink_all_plot,metrics_ztf_plot, metrics_allTNS_plot],['Fink AL + ANU2.3m follow-up','ZTF spectra', 'TNS'],varx='date_plot_universal', plots_dir = '../plots/')"
   ]
  },
  {
   "cell_type": "code",
   "execution_count": 2,
   "id": "642f3ad4-fa0f-41f6-9de6-0a5ffb86345f",
   "metadata": {},
   "outputs": [],
   "source": [
    "# pu.plot_metrics_listdf([metrics_fink_all_plot,metrics_ztf_plot, metrics_allTNS_plot],['Fink AL + ANU2.3m follow-up','ZTF spectra', 'TNS'],varx='n spectra', plots_dir = '../plots/')"
   ]
  },
  {
   "cell_type": "code",
   "execution_count": 15,
   "id": "f0a4df60",
   "metadata": {},
   "outputs": [
    {
     "data": {
      "application/vnd.plotly.v1+json": {
       "config": {
        "plotlyServerURL": "https://plot.ly"
       },
       "data": [
        {
         "hoverinfo": "text+x+y",
         "hovertext": [
          "['ZTF23abecphw']",
          "['ZTF23abdhvou']",
          "['ZTF23abeudve', 'ZTF23abggbdy']",
          "['ZTF23abglsmj', 'ZTF23abhtkba']",
          "['ZTF23abgfwhj', 'ZTF23abghfyg', 'ZTF23abhafym']",
          "['ZTF23abgnfdv', 'ZTF23abgspys', 'ZTF23abhailb', 'ZTF23abhublj', 'ZTF23abhzwll']",
          "['ZTF23abgspvs']",
          "['ZTF23abhzlbh', 'ZTF23abhzoyw', 'ZTF23abhzwhl', 'ZTF23abidsaw', 'ZTF23abihzbq', 'ZTF23abiljba']",
          "['ZTF23abhvsbo', 'ZTF23abixwfv', 'ZTF23abjhbcr']",
          "['ZTF23abjzkqu', 'ZTF23abkavcl', 'ZTF23abkgdei']",
          "['ZTF23abjtozz']",
          "['ZTF24aaejkyp']",
          "['ZTF24aaegskb']",
          "['ZTF24aahgtjt']",
          "['ZTF24aahgqwk']",
          "['ZTF24aahuulq', 'ZTF24aahznij']",
          "['ZTF24aaiehwu', 'ZTF24aaiftcp']",
          "['ZTF24aaindpx']",
          "['ZTF24aaiypmp']",
          "['ZTF24aahtdhb']",
          "['ZTF24aaieino']",
          "['ZTF24aaiafkl', 'ZTF24aaiigrt']",
          "['ZTF24aaikjjk']",
          "['ZTF24aajqamj']",
          "['ZTF24aajqwsm', 'ZTF24aajwajo', 'ZTF24aakwvbi']",
          "['ZTF24aakfchb']",
          "['ZTF24aajvldc', 'ZTF24aakymro']",
          "['ZTF24aalcflg', 'ZTF24aalhjeu', 'ZTF24aalhjml', 'ZTF24aalpgky', 'ZTF24aalsuwb']",
          "['ZTF24aakyqxt', 'ZTF24aalbzkr']",
          "['ZTF24aalbkdo']",
          "['ZTF24aamtsgz']",
          "['ZTF24aamdfll']",
          "['ZTF24aaoxbth']",
          "['ZTF24aarfccy', 'ZTF24aarqrkn']",
          "['ZTF24aaqutdf', 'ZTF24aarwwnc']",
          "['ZTF24aasmghi']",
          "['ZTF24aasqcng']",
          "['ZTF24aatkrrw']",
          "['ZTF24aatfxrw']",
          "['ZTF24aatqolq']",
          "['ZTF24aatccmo']",
          "['ZTF24aatyini']",
          "['ZTF24aaudlat', 'ZTF24aavttjp']",
          "['ZTF24aavovrp']",
          "['ZTF24aavzglr']",
          "['ZTF24aavapoe', 'ZTF24aawjctx']",
          "['ZTF24aawrofs']",
          "['ZTF24aaxmalj']",
          "['ZTF24aaxmpyh']",
          "['ZTF24aawzlfb']",
          "['ZTF24aaxmpne']",
          "['ZTF24aaxqnbe', 'ZTF24aaygegk']",
          "['ZTF24aaymouy']",
          "['ZTF24aaxzjdt', 'ZTF24aayyqub', 'ZTF24abakgyn']",
          "['ZTF24aazkvzi']"
         ],
         "marker": {
          "color": "blue"
         },
         "mode": "markers",
         "name": "Fink",
         "type": "scatter",
         "x": [
          1,
          2,
          4,
          6,
          9,
          14,
          15,
          21,
          24,
          27,
          28,
          29,
          30,
          31,
          32,
          34,
          36,
          37,
          38,
          39,
          40,
          42,
          43,
          44,
          47,
          48,
          50,
          55,
          57,
          58,
          59,
          60,
          61,
          63,
          65,
          66,
          67,
          68,
          69,
          70,
          71,
          72,
          74,
          75,
          76,
          78,
          79,
          80,
          81,
          82,
          83,
          85,
          86,
          89,
          90
         ],
         "y": [
          0.4478632478632479,
          0.4478632478632479,
          0.4739316239316239,
          0.47692307692307695,
          0.4811965811965812,
          0.4952991452991453,
          0.5162393162393163,
          0.5367521367521367,
          0.5470085470085471,
          0.5525641025641026,
          0.5683760683760684,
          0.5764957264957264,
          0.573076923076923,
          0.5846153846153846,
          0.5739316239316239,
          0.57991452991453,
          0.5863247863247864,
          0.5893162393162393,
          0.5935897435897436,
          0.5944444444444444,
          0.5991452991452991,
          0.597008547008547,
          0.6038461538461538,
          0.5931623931623932,
          0.5995726495726496,
          0.5974358974358974,
          0.5935897435897436,
          0.6021367521367521,
          0.611965811965812,
          0.6123931623931624,
          0.6217948717948718,
          0.6200854700854701,
          0.6166666666666667,
          0.620940170940171,
          0.6188034188034188,
          0.614957264957265,
          0.6188034188034188,
          0.620940170940171,
          0.6136752136752137,
          0.6141025641025641,
          0.6145299145299146,
          0.6111111111111112,
          0.6222222222222222,
          0.617948717948718,
          0.6252136752136752,
          0.6256410256410256,
          0.629059829059829,
          0.632051282051282,
          0.6405982905982905,
          0.6367521367521367,
          0.635042735042735,
          0.638034188034188,
          0.6405982905982905,
          0.6367521367521367,
          0.6388888888888888
         ]
        },
        {
         "hoverinfo": "text+x+y",
         "hovertext": [
          "['ZTF23abgnvya']",
          "['ZTF23abhvuft', 'ZTF23abhyroo']",
          "['ZTF23abhzlbh', 'ZTF23abhzxwm']",
          "['ZTF23abjehlx']",
          "['ZTF23abkixdb']",
          "['ZTF23abjrdne']",
          "['ZTF23abjxqwr']",
          "['ZTF24aahsyhe', 'ZTF24aahxmmu']",
          "['ZTF24aaiehiv']",
          "['ZTF24aaiehwu', 'ZTF24aaihwaq']",
          "['ZTF24aaindpx']",
          "['ZTF24aaistkr']",
          "['ZTF24aajhxqs']",
          "['ZTF22abxacvm', 'ZTF24aajemkb', 'ZTF24aajhlhf', 'ZTF24aajqamj']",
          "['ZTF24aajqsti']",
          "['ZTF24aakaiha', 'ZTF24aakajby']",
          "['ZTF24aakbptu']",
          "['ZTF24aakfltk', 'ZTF24aakocjx']",
          "['ZTF24aajxpmq', 'ZTF24aakfgvg']",
          "['ZTF24aakrqzs']",
          "['ZTF24aakzgnd']",
          "['ZTF24aalailt', 'ZTF24aalbkdo', 'ZTF24aalbzkr', 'ZTF24aalcflg', 'ZTF24aaleixp']",
          "['ZTF24aamiomv']",
          "['ZTF24aalywdn']",
          "['ZTF24aamtsgz', 'ZTF24aamtwya']",
          "['ZTF24aamttpq']",
          "['ZTF24aancgyl', 'ZTF24aancjzy']",
          "['ZTF24aamtpla']",
          "['ZTF24aaoauvb', 'ZTF24aaofamr']",
          "['ZTF24aaooxcd']",
          "['ZTF24aasktkt']",
          "['ZTF24aasktmr', 'ZTF24aaskxde', 'ZTF24aasvscv']",
          "['ZTF24aasokij']",
          "['ZTF24aasqcng']",
          "['ZTF24aaspwim']",
          "['ZTF24aasvdze', 'ZTF24aatgvrs']",
          "['ZTF24aatdjua']",
          "['ZTF24aaswnkx', 'ZTF24aatbnzj', 'ZTF24aatjphv']"
         ],
         "marker": {
          "color": "orange"
         },
         "mode": "markers",
         "name": "ZTF",
         "type": "scatter",
         "x": [
          1,
          3,
          5,
          6,
          7,
          8,
          9,
          11,
          12,
          14,
          15,
          16,
          17,
          21,
          22,
          24,
          25,
          27,
          29,
          30,
          31,
          36,
          37,
          38,
          40,
          41,
          43,
          44,
          46,
          47,
          48,
          51,
          52,
          53,
          54,
          56,
          57,
          60
         ],
         "y": [
          0.461965811965812,
          0.4756410256410256,
          0.5072649572649572,
          0.497008547008547,
          0.4829059829059829,
          0.5021367521367521,
          0.5448717948717948,
          0.5478632478632479,
          0.5551282051282052,
          0.5692307692307692,
          0.5683760683760684,
          0.5713675213675213,
          0.5863247863247864,
          0.5893162393162393,
          0.5914529914529915,
          0.5948717948717949,
          0.5987179487179487,
          0.6072649572649572,
          0.6145299145299146,
          0.6188034188034188,
          0.6222222222222222,
          0.6397435897435897,
          0.6354700854700854,
          0.629059829059829,
          0.6286324786324786,
          0.6337606837606837,
          0.6230769230769231,
          0.6230769230769231,
          0.6282051282051282,
          0.6333333333333333,
          0.6299145299145299,
          0.6192307692307693,
          0.6162393162393163,
          0.6205128205128205,
          0.6324786324786325,
          0.6346153846153846,
          0.6294871794871795,
          0.6294871794871795
         ]
        },
        {
         "hoverinfo": "text+x+y",
         "hovertext": [
          "['ZTF23abfubfc', 'ZTF23abgbwok', 'ZTF23abgwvkv']",
          "['ZTF23abgfwhj', 'ZTF23abgltid', 'ZTF23abgovnz']",
          "['ZTF23aaxgavf', 'ZTF23abgnvya', 'ZTF23abgpokx', 'ZTF23abgqzhi', 'ZTF23abgspvs']",
          "['ZTF23abfxxod', 'ZTF23abgnvhq', 'ZTF23abgspys', 'ZTF23abgyyvj']",
          "['ZTF23abhafym']",
          "['ZTF23abhzwll']",
          "['ZTF23abgncdh']",
          "['ZTF23abhshdk', 'ZTF23abhublj', 'ZTF23abhvlji']",
          "['ZTF19abnggdt', 'ZTF23abhvrhm', 'ZTF23abhvsbo', 'ZTF23abhvuft', 'ZTF23abhwhho', 'ZTF23abhxpga', 'ZTF23abhyroo']",
          "['ZTF23abgnfdv', 'ZTF23abhzlbh', 'ZTF23abhzxwm', 'ZTF23abihzbq']",
          "['ZTF23abhtsna', 'ZTF23abihavc', 'ZTF23abioirc']",
          "['ZTF23abhxvly', 'ZTF23abidsaw', 'ZTF23abijnsm', 'ZTF23abijopy', 'ZTF23abikioc']",
          "['ZTF23abhailb', 'ZTF23abiljba', 'ZTF23abjazdg']",
          "['ZTF23abhvkby', 'ZTF23abieafn', 'ZTF23abigzke', 'ZTF23abivaby', 'ZTF23abivscl', 'ZTF23abjehlx', 'ZTF23abjexnw']",
          "['ZTF19absymnz', 'ZTF23abiahyg', 'ZTF23abikzfr', 'ZTF23abjacqc', 'ZTF23abjfrbi', 'ZTF23abjikaf', 'ZTF23abjqxbe', 'ZTF23abkixdb']",
          "['ZTF23abjfpng', 'ZTF23abjjrwv']",
          "['ZTF23abjtozz', 'ZTF23abjuxso', 'ZTF23abjvuwc', 'ZTF23abjxqwr', 'ZTF23abjyjpb']",
          "['ZTF24aahphdh', 'ZTF24aahsyhe', 'ZTF24aahxmmu']",
          "['ZTF24aahtqlp']",
          "['ZTF24aahtnpc', 'ZTF24aahuzig']",
          "['ZTF24aaiegnl']",
          "['ZTF24aahwzei', 'ZTF24aaiehiv']",
          "['ZTF24aaidazw', 'ZTF24aaindpx']",
          "['ZTF24aaiypmp']",
          "['ZTF19abgbbzy', 'ZTF24aajhotx', 'ZTF24aajhxqs', 'ZTF24aajibzs']",
          "['ZTF22abxacvm', 'ZTF24aajemkb', 'ZTF24aajhlhf', 'ZTF24aajqamj']",
          "['ZTF24aajdqbw', 'ZTF24aajioip', 'ZTF24aajqsti', 'ZTF24aajqwsm']",
          "['ZTF24aakajtn']",
          "['ZTF24aajjmlk', 'ZTF24aajxppf', 'ZTF24aajzrsq', 'ZTF24aakagbu', 'ZTF24aakaiha', 'ZTF24aakajby']",
          "['ZTF24aakbptu', 'ZTF24aakbqjh']",
          "['ZTF24aajvvnw', 'ZTF24aakdffc', 'ZTF24aakfltk', 'ZTF24aakocjx']",
          "['ZTF24aajxpmq', 'ZTF24aakfgvg']",
          "['ZTF24aakrqzs']",
          "['ZTF24aakzxzu']",
          "['ZTF24aakymro', 'ZTF24aakzgnd', 'ZTF24aakzmiu']",
          "['ZTF24aalailt', 'ZTF24aalbkdo', 'ZTF24aalbwpz', 'ZTF24aalbzkr', 'ZTF24aalcflg', 'ZTF24aaleixp']",
          "['ZTF24aalndou', 'ZTF24aalsuwb']"
         ],
         "marker": {
          "color": "grey"
         },
         "mode": "markers",
         "name": "TNS",
         "type": "scatter",
         "x": [
          3,
          6,
          11,
          15,
          16,
          17,
          18,
          21,
          28,
          32,
          35,
          40,
          43,
          50,
          58,
          60,
          65,
          68,
          69,
          71,
          72,
          74,
          76,
          77,
          81,
          85,
          89,
          90,
          96,
          98,
          102,
          104,
          105,
          106,
          109,
          115,
          117
         ],
         "y": [
          0.48675213675213674,
          0.5055555555555555,
          0.5034188034188034,
          0.5149572649572649,
          0.5213675213675214,
          0.5153846153846153,
          0.5153846153846153,
          0.5213675213675214,
          0.5739316239316239,
          0.5713675213675213,
          0.5863247863247864,
          0.5777777777777777,
          0.5376068376068376,
          0.5393162393162393,
          0.5713675213675213,
          0.5713675213675213,
          0.6021367521367521,
          0.5974358974358974,
          0.5991452991452991,
          0.5982905982905983,
          0.6012820512820513,
          0.6,
          0.6047008547008547,
          0.6068376068376068,
          0.6076923076923076,
          0.6085470085470085,
          0.6025641025641025,
          0.6038461538461538,
          0.6,
          0.5974358974358974,
          0.6068376068376068,
          0.6025641025641025,
          0.5987179487179487,
          0.6021367521367521,
          0.6072649572649572,
          0.6068376068376068,
          0.6076923076923076
         ]
        }
       ],
       "layout": {
        "template": {
         "data": {
          "bar": [
           {
            "error_x": {
             "color": "#2a3f5f"
            },
            "error_y": {
             "color": "#2a3f5f"
            },
            "marker": {
             "line": {
              "color": "#E5ECF6",
              "width": 0.5
             },
             "pattern": {
              "fillmode": "overlay",
              "size": 10,
              "solidity": 0.2
             }
            },
            "type": "bar"
           }
          ],
          "barpolar": [
           {
            "marker": {
             "line": {
              "color": "#E5ECF6",
              "width": 0.5
             },
             "pattern": {
              "fillmode": "overlay",
              "size": 10,
              "solidity": 0.2
             }
            },
            "type": "barpolar"
           }
          ],
          "carpet": [
           {
            "aaxis": {
             "endlinecolor": "#2a3f5f",
             "gridcolor": "white",
             "linecolor": "white",
             "minorgridcolor": "white",
             "startlinecolor": "#2a3f5f"
            },
            "baxis": {
             "endlinecolor": "#2a3f5f",
             "gridcolor": "white",
             "linecolor": "white",
             "minorgridcolor": "white",
             "startlinecolor": "#2a3f5f"
            },
            "type": "carpet"
           }
          ],
          "choropleth": [
           {
            "colorbar": {
             "outlinewidth": 0,
             "ticks": ""
            },
            "type": "choropleth"
           }
          ],
          "contour": [
           {
            "colorbar": {
             "outlinewidth": 0,
             "ticks": ""
            },
            "colorscale": [
             [
              0,
              "#0d0887"
             ],
             [
              0.1111111111111111,
              "#46039f"
             ],
             [
              0.2222222222222222,
              "#7201a8"
             ],
             [
              0.3333333333333333,
              "#9c179e"
             ],
             [
              0.4444444444444444,
              "#bd3786"
             ],
             [
              0.5555555555555556,
              "#d8576b"
             ],
             [
              0.6666666666666666,
              "#ed7953"
             ],
             [
              0.7777777777777778,
              "#fb9f3a"
             ],
             [
              0.8888888888888888,
              "#fdca26"
             ],
             [
              1,
              "#f0f921"
             ]
            ],
            "type": "contour"
           }
          ],
          "contourcarpet": [
           {
            "colorbar": {
             "outlinewidth": 0,
             "ticks": ""
            },
            "type": "contourcarpet"
           }
          ],
          "heatmap": [
           {
            "colorbar": {
             "outlinewidth": 0,
             "ticks": ""
            },
            "colorscale": [
             [
              0,
              "#0d0887"
             ],
             [
              0.1111111111111111,
              "#46039f"
             ],
             [
              0.2222222222222222,
              "#7201a8"
             ],
             [
              0.3333333333333333,
              "#9c179e"
             ],
             [
              0.4444444444444444,
              "#bd3786"
             ],
             [
              0.5555555555555556,
              "#d8576b"
             ],
             [
              0.6666666666666666,
              "#ed7953"
             ],
             [
              0.7777777777777778,
              "#fb9f3a"
             ],
             [
              0.8888888888888888,
              "#fdca26"
             ],
             [
              1,
              "#f0f921"
             ]
            ],
            "type": "heatmap"
           }
          ],
          "heatmapgl": [
           {
            "colorbar": {
             "outlinewidth": 0,
             "ticks": ""
            },
            "colorscale": [
             [
              0,
              "#0d0887"
             ],
             [
              0.1111111111111111,
              "#46039f"
             ],
             [
              0.2222222222222222,
              "#7201a8"
             ],
             [
              0.3333333333333333,
              "#9c179e"
             ],
             [
              0.4444444444444444,
              "#bd3786"
             ],
             [
              0.5555555555555556,
              "#d8576b"
             ],
             [
              0.6666666666666666,
              "#ed7953"
             ],
             [
              0.7777777777777778,
              "#fb9f3a"
             ],
             [
              0.8888888888888888,
              "#fdca26"
             ],
             [
              1,
              "#f0f921"
             ]
            ],
            "type": "heatmapgl"
           }
          ],
          "histogram": [
           {
            "marker": {
             "pattern": {
              "fillmode": "overlay",
              "size": 10,
              "solidity": 0.2
             }
            },
            "type": "histogram"
           }
          ],
          "histogram2d": [
           {
            "colorbar": {
             "outlinewidth": 0,
             "ticks": ""
            },
            "colorscale": [
             [
              0,
              "#0d0887"
             ],
             [
              0.1111111111111111,
              "#46039f"
             ],
             [
              0.2222222222222222,
              "#7201a8"
             ],
             [
              0.3333333333333333,
              "#9c179e"
             ],
             [
              0.4444444444444444,
              "#bd3786"
             ],
             [
              0.5555555555555556,
              "#d8576b"
             ],
             [
              0.6666666666666666,
              "#ed7953"
             ],
             [
              0.7777777777777778,
              "#fb9f3a"
             ],
             [
              0.8888888888888888,
              "#fdca26"
             ],
             [
              1,
              "#f0f921"
             ]
            ],
            "type": "histogram2d"
           }
          ],
          "histogram2dcontour": [
           {
            "colorbar": {
             "outlinewidth": 0,
             "ticks": ""
            },
            "colorscale": [
             [
              0,
              "#0d0887"
             ],
             [
              0.1111111111111111,
              "#46039f"
             ],
             [
              0.2222222222222222,
              "#7201a8"
             ],
             [
              0.3333333333333333,
              "#9c179e"
             ],
             [
              0.4444444444444444,
              "#bd3786"
             ],
             [
              0.5555555555555556,
              "#d8576b"
             ],
             [
              0.6666666666666666,
              "#ed7953"
             ],
             [
              0.7777777777777778,
              "#fb9f3a"
             ],
             [
              0.8888888888888888,
              "#fdca26"
             ],
             [
              1,
              "#f0f921"
             ]
            ],
            "type": "histogram2dcontour"
           }
          ],
          "mesh3d": [
           {
            "colorbar": {
             "outlinewidth": 0,
             "ticks": ""
            },
            "type": "mesh3d"
           }
          ],
          "parcoords": [
           {
            "line": {
             "colorbar": {
              "outlinewidth": 0,
              "ticks": ""
             }
            },
            "type": "parcoords"
           }
          ],
          "pie": [
           {
            "automargin": true,
            "type": "pie"
           }
          ],
          "scatter": [
           {
            "fillpattern": {
             "fillmode": "overlay",
             "size": 10,
             "solidity": 0.2
            },
            "type": "scatter"
           }
          ],
          "scatter3d": [
           {
            "line": {
             "colorbar": {
              "outlinewidth": 0,
              "ticks": ""
             }
            },
            "marker": {
             "colorbar": {
              "outlinewidth": 0,
              "ticks": ""
             }
            },
            "type": "scatter3d"
           }
          ],
          "scattercarpet": [
           {
            "marker": {
             "colorbar": {
              "outlinewidth": 0,
              "ticks": ""
             }
            },
            "type": "scattercarpet"
           }
          ],
          "scattergeo": [
           {
            "marker": {
             "colorbar": {
              "outlinewidth": 0,
              "ticks": ""
             }
            },
            "type": "scattergeo"
           }
          ],
          "scattergl": [
           {
            "marker": {
             "colorbar": {
              "outlinewidth": 0,
              "ticks": ""
             }
            },
            "type": "scattergl"
           }
          ],
          "scattermapbox": [
           {
            "marker": {
             "colorbar": {
              "outlinewidth": 0,
              "ticks": ""
             }
            },
            "type": "scattermapbox"
           }
          ],
          "scatterpolar": [
           {
            "marker": {
             "colorbar": {
              "outlinewidth": 0,
              "ticks": ""
             }
            },
            "type": "scatterpolar"
           }
          ],
          "scatterpolargl": [
           {
            "marker": {
             "colorbar": {
              "outlinewidth": 0,
              "ticks": ""
             }
            },
            "type": "scatterpolargl"
           }
          ],
          "scatterternary": [
           {
            "marker": {
             "colorbar": {
              "outlinewidth": 0,
              "ticks": ""
             }
            },
            "type": "scatterternary"
           }
          ],
          "surface": [
           {
            "colorbar": {
             "outlinewidth": 0,
             "ticks": ""
            },
            "colorscale": [
             [
              0,
              "#0d0887"
             ],
             [
              0.1111111111111111,
              "#46039f"
             ],
             [
              0.2222222222222222,
              "#7201a8"
             ],
             [
              0.3333333333333333,
              "#9c179e"
             ],
             [
              0.4444444444444444,
              "#bd3786"
             ],
             [
              0.5555555555555556,
              "#d8576b"
             ],
             [
              0.6666666666666666,
              "#ed7953"
             ],
             [
              0.7777777777777778,
              "#fb9f3a"
             ],
             [
              0.8888888888888888,
              "#fdca26"
             ],
             [
              1,
              "#f0f921"
             ]
            ],
            "type": "surface"
           }
          ],
          "table": [
           {
            "cells": {
             "fill": {
              "color": "#EBF0F8"
             },
             "line": {
              "color": "white"
             }
            },
            "header": {
             "fill": {
              "color": "#C8D4E3"
             },
             "line": {
              "color": "white"
             }
            },
            "type": "table"
           }
          ]
         },
         "layout": {
          "annotationdefaults": {
           "arrowcolor": "#2a3f5f",
           "arrowhead": 0,
           "arrowwidth": 1
          },
          "autotypenumbers": "strict",
          "coloraxis": {
           "colorbar": {
            "outlinewidth": 0,
            "ticks": ""
           }
          },
          "colorscale": {
           "diverging": [
            [
             0,
             "#8e0152"
            ],
            [
             0.1,
             "#c51b7d"
            ],
            [
             0.2,
             "#de77ae"
            ],
            [
             0.3,
             "#f1b6da"
            ],
            [
             0.4,
             "#fde0ef"
            ],
            [
             0.5,
             "#f7f7f7"
            ],
            [
             0.6,
             "#e6f5d0"
            ],
            [
             0.7,
             "#b8e186"
            ],
            [
             0.8,
             "#7fbc41"
            ],
            [
             0.9,
             "#4d9221"
            ],
            [
             1,
             "#276419"
            ]
           ],
           "sequential": [
            [
             0,
             "#0d0887"
            ],
            [
             0.1111111111111111,
             "#46039f"
            ],
            [
             0.2222222222222222,
             "#7201a8"
            ],
            [
             0.3333333333333333,
             "#9c179e"
            ],
            [
             0.4444444444444444,
             "#bd3786"
            ],
            [
             0.5555555555555556,
             "#d8576b"
            ],
            [
             0.6666666666666666,
             "#ed7953"
            ],
            [
             0.7777777777777778,
             "#fb9f3a"
            ],
            [
             0.8888888888888888,
             "#fdca26"
            ],
            [
             1,
             "#f0f921"
            ]
           ],
           "sequentialminus": [
            [
             0,
             "#0d0887"
            ],
            [
             0.1111111111111111,
             "#46039f"
            ],
            [
             0.2222222222222222,
             "#7201a8"
            ],
            [
             0.3333333333333333,
             "#9c179e"
            ],
            [
             0.4444444444444444,
             "#bd3786"
            ],
            [
             0.5555555555555556,
             "#d8576b"
            ],
            [
             0.6666666666666666,
             "#ed7953"
            ],
            [
             0.7777777777777778,
             "#fb9f3a"
            ],
            [
             0.8888888888888888,
             "#fdca26"
            ],
            [
             1,
             "#f0f921"
            ]
           ]
          },
          "colorway": [
           "#636efa",
           "#EF553B",
           "#00cc96",
           "#ab63fa",
           "#FFA15A",
           "#19d3f3",
           "#FF6692",
           "#B6E880",
           "#FF97FF",
           "#FECB52"
          ],
          "font": {
           "color": "#2a3f5f"
          },
          "geo": {
           "bgcolor": "white",
           "lakecolor": "white",
           "landcolor": "#E5ECF6",
           "showlakes": true,
           "showland": true,
           "subunitcolor": "white"
          },
          "hoverlabel": {
           "align": "left"
          },
          "hovermode": "closest",
          "mapbox": {
           "style": "light"
          },
          "paper_bgcolor": "white",
          "plot_bgcolor": "#E5ECF6",
          "polar": {
           "angularaxis": {
            "gridcolor": "white",
            "linecolor": "white",
            "ticks": ""
           },
           "bgcolor": "#E5ECF6",
           "radialaxis": {
            "gridcolor": "white",
            "linecolor": "white",
            "ticks": ""
           }
          },
          "scene": {
           "xaxis": {
            "backgroundcolor": "#E5ECF6",
            "gridcolor": "white",
            "gridwidth": 2,
            "linecolor": "white",
            "showbackground": true,
            "ticks": "",
            "zerolinecolor": "white"
           },
           "yaxis": {
            "backgroundcolor": "#E5ECF6",
            "gridcolor": "white",
            "gridwidth": 2,
            "linecolor": "white",
            "showbackground": true,
            "ticks": "",
            "zerolinecolor": "white"
           },
           "zaxis": {
            "backgroundcolor": "#E5ECF6",
            "gridcolor": "white",
            "gridwidth": 2,
            "linecolor": "white",
            "showbackground": true,
            "ticks": "",
            "zerolinecolor": "white"
           }
          },
          "shapedefaults": {
           "line": {
            "color": "#2a3f5f"
           }
          },
          "ternary": {
           "aaxis": {
            "gridcolor": "white",
            "linecolor": "white",
            "ticks": ""
           },
           "baxis": {
            "gridcolor": "white",
            "linecolor": "white",
            "ticks": ""
           },
           "bgcolor": "#E5ECF6",
           "caxis": {
            "gridcolor": "white",
            "linecolor": "white",
            "ticks": ""
           }
          },
          "title": {
           "x": 0.05
          },
          "xaxis": {
           "automargin": true,
           "gridcolor": "white",
           "linecolor": "white",
           "ticks": "",
           "title": {
            "standoff": 15
           },
           "zerolinecolor": "white",
           "zerolinewidth": 2
          },
          "yaxis": {
           "automargin": true,
           "gridcolor": "white",
           "linecolor": "white",
           "ticks": "",
           "title": {
            "standoff": 15
           },
           "zerolinecolor": "white",
           "zerolinewidth": 2
          }
         }
        },
        "xaxis": {
         "title": {
          "text": "n spectra"
         }
        },
        "yaxis": {
         "title": {
          "text": "accuracy"
         }
        }
       }
      }
     },
     "metadata": {},
     "output_type": "display_data"
    }
   ],
   "source": [
    "import plotly.graph_objects as go\n",
    "\n",
    "# Create the first scatter plot trace\n",
    "trace1 = go.Scatter(x=metrics_fink_all['n spectra'].values, y=metrics_fink_all['accuracy'].values, mode='markers', name='Fink', marker=dict(color='blue'),hovertext=metrics_fink_all['query_objectIds'].astype(str).values, hoverinfo='text+x+y')\n",
    "# Create the second scatter plot trace\n",
    "trace2 = go.Scatter(x=metrics_ztf['n spectra'].values, y=metrics_ztf['accuracy'].values, mode='markers', name='ZTF', marker=dict(color='orange'),hovertext=metrics_ztf['query_objectIds'].astype(str).values, hoverinfo='text+x+y')\n",
    "\n",
    "trace3 = go.Scatter(x=metrics_allTNS['n spectra'].values, y=metrics_allTNS['accuracy'].values, mode='markers', name='TNS', marker=dict(color='grey'),hovertext=metrics_allTNS['query_objectIds'].astype(str).values, hoverinfo='text+x+y')\n",
    "\n",
    "# Create the figure and add the two traces\n",
    "fig = go.Figure(data=[trace1, trace2, trace3])\n",
    "# Update layout to set the x-axis label\n",
    "fig.update_layout(\n",
    "    xaxis_title='n spectra',  # Set x-axis label\n",
    "    yaxis_title='accuracy'   # Set y-axis label (optional)\n",
    ")\n",
    "# Show the figure\n",
    "fig.show()\n"
   ]
  },
  {
   "cell_type": "code",
   "execution_count": null,
   "id": "c5ed723c",
   "metadata": {},
   "outputs": [],
   "source": []
  },
  {
   "cell_type": "code",
   "execution_count": null,
   "id": "95a89098",
   "metadata": {},
   "outputs": [],
   "source": []
  }
 ],
 "metadata": {
  "kernelspec": {
   "display_name": "ActSNClass",
   "language": "python",
   "name": "python3"
  },
  "language_info": {
   "codemirror_mode": {
    "name": "ipython",
    "version": 3
   },
   "file_extension": ".py",
   "mimetype": "text/x-python",
   "name": "python",
   "nbconvert_exporter": "python",
   "pygments_lexer": "ipython3",
   "version": "3.11.0"
  }
 },
 "nbformat": 4,
 "nbformat_minor": 5
}

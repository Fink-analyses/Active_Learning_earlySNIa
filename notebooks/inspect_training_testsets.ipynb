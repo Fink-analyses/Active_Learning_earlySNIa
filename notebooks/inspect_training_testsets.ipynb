{
 "cells": [
  {
   "cell_type": "code",
   "execution_count": 1,
   "id": "957a41ee-42ce-42ca-9ea7-aaf69f8658aa",
   "metadata": {
    "tags": []
   },
   "outputs": [],
   "source": [
    "import numpy as np\n",
    "import pandas as pd\n"
   ]
  },
  {
   "cell_type": "code",
   "execution_count": 2,
   "id": "be607c73-6bf3-4843-addc-5a2fec03e59f",
   "metadata": {
    "tags": []
   },
   "outputs": [],
   "source": [
    "# read train and test data\n",
    "initial_train_for_loop = pd.read_csv( '../data/initial_state/UncSampling/' + \\\n",
    "                                           '/training_samples/train_after_loop.csv', \n",
    "                                           index_col=False)\n",
    "\n",
    "test_for_loop = pd.read_csv('../data/initial_state/UncSampling/' + \\\n",
    "                                           '/test_samples/test_after_loop.csv', \n",
    "                                           index_col=False)\n",
    "\n",
    "# select subset of test: only SNe\n",
    "test_for_loop['type'].unique()\n",
    "type_list = ['SN','SNII','Ia', 'SLSN-I','SNIIP', 'SNIIn', 'SLSN-II', 'SNIc', 'SNIb', 'SNIIb', 'SNI','SNIb-pec', 'SNIc-BL','SNII-pec','SNIbn']\n",
    "test_for_loop = test_for_loop[test_for_loop['type'].isin(type_list)]"
   ]
  },
  {
   "cell_type": "code",
   "execution_count": 4,
   "id": "a70de09b",
   "metadata": {},
   "outputs": [
    {
     "data": {
      "text/plain": [
       "2340"
      ]
     },
     "execution_count": 4,
     "metadata": {},
     "output_type": "execute_result"
    }
   ],
   "source": [
    "len(test_for_loop)"
   ]
  },
  {
   "cell_type": "code",
   "execution_count": 10,
   "id": "374caf0d",
   "metadata": {},
   "outputs": [],
   "source": [
    "# Group by 'type' and calculate the size for both dataframes\n",
    "test_for_loop_grouped = test_for_loop.groupby('type').size()\n",
    "initial_train_for_loop_grouped = initial_train_for_loop.groupby('type').size()\n",
    "\n",
    "# Combine the two series into a single DataFrame\n",
    "result = pd.DataFrame({\n",
    "    'Initial training sample': initial_train_for_loop_grouped,\n",
    "    'Testing sample': test_for_loop_grouped,\n",
    "})\n",
    "\n",
    "# Fill missing values with 0 (if there are types present in one but not the other)\n",
    "result = result.fillna(0)\n",
    "\n",
    "result['Initial training sample'] = result['Initial training sample'].astype(int)\n",
    "result['Testing sample'] = result['Testing sample'].astype(int)\n"
   ]
  },
  {
   "cell_type": "code",
   "execution_count": 11,
   "id": "490d0cd9",
   "metadata": {},
   "outputs": [
    {
     "name": "stdout",
     "output_type": "stream",
     "text": [
      "\\begin{tabular}{lrr}\n",
      "\\toprule\n",
      " & Initial training sample & Testing sample \\\\\n",
      "type &  &  \\\\\n",
      "\\midrule\n",
      "AGN & 1 & 0 \\\\\n",
      "C* & 2 & 0 \\\\\n",
      "EB* & 3 & 0 \\\\\n",
      "Ia & 13 & 1587 \\\\\n",
      "Mira & 1 & 0 \\\\\n",
      "QSO & 7 & 0 \\\\\n",
      "RRLyr & 4 & 0 \\\\\n",
      "SLSN-I & 1 & 63 \\\\\n",
      "SLSN-II & 0 & 30 \\\\\n",
      "SN & 0 & 6 \\\\\n",
      "SNI & 0 & 20 \\\\\n",
      "SNII & 3 & 341 \\\\\n",
      "SNII-pec & 0 & 2 \\\\\n",
      "SNIIP & 1 & 51 \\\\\n",
      "SNIIb & 0 & 24 \\\\\n",
      "SNIIn & 1 & 106 \\\\\n",
      "SNIb & 1 & 21 \\\\\n",
      "SNIb-pec & 0 & 1 \\\\\n",
      "SNIbn & 0 & 7 \\\\\n",
      "SNIc & 0 & 73 \\\\\n",
      "SNIc-BL & 0 & 8 \\\\\n",
      "Star & 1 & 0 \\\\\n",
      "Varstar & 1 & 0 \\\\\n",
      "\\bottomrule\n",
      "\\end{tabular}\n",
      "\n"
     ]
    }
   ],
   "source": [
    "print(result.to_latex(index=True))"
   ]
  },
  {
   "cell_type": "code",
   "execution_count": null,
   "id": "14631d85",
   "metadata": {},
   "outputs": [],
   "source": []
  },
  {
   "cell_type": "code",
   "execution_count": 16,
   "id": "44bdeab0",
   "metadata": {},
   "outputs": [
    {
     "data": {
      "text/plain": [
       "np.int64(753)"
      ]
     },
     "execution_count": 16,
     "metadata": {},
     "output_type": "execute_result"
    }
   ],
   "source": [
    "result['Testing sample'].sum()-1587"
   ]
  },
  {
   "cell_type": "code",
   "execution_count": null,
   "id": "cd257ce0",
   "metadata": {},
   "outputs": [],
   "source": []
  }
 ],
 "metadata": {
  "kernelspec": {
   "display_name": "ActSNClass",
   "language": "python",
   "name": "python3"
  },
  "language_info": {
   "codemirror_mode": {
    "name": "ipython",
    "version": 3
   },
   "file_extension": ".py",
   "mimetype": "text/x-python",
   "name": "python",
   "nbconvert_exporter": "python",
   "pygments_lexer": "ipython3",
   "version": "3.11.0"
  }
 },
 "nbformat": 4,
 "nbformat_minor": 5
}

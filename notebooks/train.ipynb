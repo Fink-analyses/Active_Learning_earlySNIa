{
 "cells": [
  {
   "cell_type": "code",
   "execution_count": 67,
   "id": "68823359-713f-4319-a50e-6cd83bcd87fe",
   "metadata": {
    "tags": []
   },
   "outputs": [],
   "source": [
    "from actsnfink import *\n",
    "import os\n",
    "import pandas as pd\n",
    "import numpy as np\n",
    "from sklearn.ensemble import RandomForestClassifier\n",
    "from actsnclass.metrics import get_snpcc_metric\n",
    "import matplotlib.pylab as plt\n",
    "import pickle\n",
    "from shutil import copy"
   ]
  },
  {
   "cell_type": "code",
   "execution_count": 19,
   "id": "2ca69233-ad59-4d66-9f29-85242999d34d",
   "metadata": {
    "tags": []
   },
   "outputs": [],
   "source": [
    "if True:\n",
    "    #########     User choices: general    #########################\n",
    "    \n",
    "    create_matrix = False            # create raw data file by combining all TNS + a few simbad files\n",
    "    n_files_simbad = 5              # number of simbad files randomly chosen to compose the raw data\n",
    "    initial_state_from_file = False  # read initial state from a fixed file\n",
    "    \n",
    "    \n",
    "    fname_features_matrix = '/media/emille/git/Fink/supernova_al/referee/data/features.csv'               # output features file\n",
    "    fname_raw_output = '/media/emille/git/Fink/supernova_al/referee/data/raw.csv.gz'                      # output raw data file\n",
    "    dirname_input = '../../../data/AL_data/'                     # input directory with labelled alerts\n",
    "    dirname_output = '../data/20230907/'                         # root products output directory\n",
    "    append_name = ''                                             # append to all metric, prob and queries names\n",
    "    \n",
    "    nloops = 1                          # number of learning loops\n",
    "    strategy = 'UncSampling'            # query strategy\n",
    "    initial_training = 10               # total number of objs in initial training\n",
    "    frac_Ia_tot = 0.5                   # fraction of Ia in initial training \n",
    "    n_realizations = 1                  # total number of realizations\n",
    "    n_realizations_ini = 0              # start from this realization number\n",
    "    new_raw_file = False                 # save raw data in one file\n",
    "    input_raw_file = fname_raw_output   # name of raw data file\n",
    "    n = 15000                           # number of random simbad objects per file \n",
    "                                        # to be used as part of the raw data\n",
    "    \n",
    "    drop_zeros = True                   # ignore objects with observations in only 1 filter\n",
    "    screen = True                       # print debug comments to screen\n",
    "    "
   ]
  },
  {
   "cell_type": "code",
   "execution_count": 12,
   "id": "624e5616-d8bf-4e1d-a571-734301016fad",
   "metadata": {
    "tags": []
   },
   "outputs": [],
   "source": [
    "# create directory structure\n",
    "\n",
    "features_names = ['a_g', 'b_g', 'c_g', 'snratio_g', 'mse_g', 'nrise_g', \n",
    "                          'a_r', 'b_r', 'c_r', 'snratio_r', 'mse_r', 'nrise_r']\n",
    "    \n",
    "for name in [dirname_output + '/', \n",
    "             dirname_output + '/' + strategy + '/', \n",
    "             dirname_output + '/' + strategy + '/models/', \n",
    "             dirname_output + '/' + strategy + '/class_prob/',\n",
    "             dirname_output + '/' + strategy + '/metrics/', \n",
    "             dirname_output + '/' + strategy + '/queries/',\n",
    "             dirname_output + '/' + strategy + '/training_samples/', \n",
    "             dirname_output + '/' + strategy + '/test_samples/']:\n",
    "    if not os.path.isdir(name):\n",
    "        os.makedirs(name)  "
   ]
  },
  {
   "cell_type": "code",
   "execution_count": 15,
   "id": "e4f9b367-778f-47fe-89ad-6046981abf99",
   "metadata": {
    "tags": []
   },
   "outputs": [],
   "source": [
    "# create initial data matrix\n",
    "if create_matrix:\n",
    "    matrix_clean = build_matrix(fname_output=fname_features_matrix, dirname_input=dirname_input, dirname_output=dirname_output + 'data/',\n",
    "                                fname_raw_output=fname_raw_output, new_raw_file=new_raw_file,\n",
    "                                input_raw_file=input_raw_file,n=n,\n",
    "                               n_files_simbad=n_files_simbad, drop_zeros=drop_zeros, screen=screen)\n",
    "    print(np.unique(matrix_clean['type'].values))\n",
    "        \n",
    "else:\n",
    "    matrix_clean = pd.read_csv(fname_features_matrix, comment='#')   "
   ]
  },
  {
   "cell_type": "code",
   "execution_count": 20,
   "id": "6781e632-9507-4832-ba63-e4001a295565",
   "metadata": {
    "tags": []
   },
   "outputs": [
    {
     "name": "stdout",
     "output_type": "stream",
     "text": [
      "\n",
      " temp_labels =  ['Ia' 'Ia' 'Ia' 'Ia' 'Ia' 'QSO' 'EB*' 'EB*' 'Star' 'RRLyr'] \n",
      "\n",
      "Training set size:  10\n",
      "Test set size:  23765\n",
      "  from which queryable:  23765\n",
      "Processing...  0\n",
      "\n",
      " Metrics:  [0.7488743951188723, 0.7172413793103448, 0.1717459840864735, 0.04637039490992]\n",
      "\n",
      " Inside make_query: \n",
      "       ... classprob:  23765\n",
      "       ... queryable_ids:  23765\n",
      "       ... test_ids:  23765\n",
      "\n",
      " Inside UncSampling: \n",
      "       query_ids:  [1296277080715015003] \n",
      "\n",
      "   number of test_ids:  23765\n",
      "   number of queryable_ids:  23765 \n",
      "\n",
      "   *** Displacement caused by constraints on query****\n",
      "   0 ->  0\n",
      "    [0.5 0.5] -- >  [0.5 0.5] \n",
      "\n",
      "indx:  [19645]\n"
     ]
    }
   ],
   "source": [
    "if True:\n",
    "    if initial_state_from_file:\n",
    "        fname_ini_train = dirname_output + '/UncSampling/training_samples/initialtrain_v' + str(initial_state_version) + '.csv'              \n",
    "        fname_ini_test = dirname_output + '/UncSampling/test_samples/initial_test_v' + str(initial_state_version) + '.csv'\n",
    "    \n",
    "        output_metrics_file = dirname_output + '/' + strategy + '/metrics/metrics_' + strategy + '_v' + str(initial_state_version) + append_name + '.dat'\n",
    "        output_queried_file = dirname_output + '/' + strategy + '/queries/queried_' + strategy + '_v'+ str(initial_state_version) + append_name + '.dat'\n",
    "        output_prob_root = dirname_output + '/' + strategy + '/class_prob/v' + str(initial_state_version) + '/class_prob_' + strategy + append_name\n",
    "    \n",
    "        name = dirname_output + '/' + strategy + '/class_prob/v' + str(initial_state_version) + '/'\n",
    "        if not os.path.isdir(name):\n",
    "            os.makedirs(name)\n",
    "        data = read_initial_samples(fname_ini_train, fname_ini_test)\n",
    "        \n",
    "        # perform learnin loop\n",
    "        learn_loop(data, nloops=nloops, strategy=strategy, \n",
    "                   output_metrics_file=output_metrics_file, \n",
    "                   output_queried_file=output_queried_file,\n",
    "                   classifier='RandomForest', seed=None,\n",
    "                   batch=1, screen=True, output_prob_root=output_prob_root)\n",
    "        \n",
    "    else:\n",
    "        for v in range(n_realizations_ini, n_realizations):\n",
    "            output_metrics_file = dirname_output + '/' + strategy + '/metrics/metrics_' + strategy + '_v' + str(v) + append_name + '.dat'\n",
    "            output_queried_file = dirname_output + '/' + strategy + '/queries/queried_' + strategy + '_v'+ str(v) + append_name + '.dat'\n",
    "            output_prob_root = dirname_output + '/' + strategy + '/class_prob/v' + str(v) + '/class_prob_' + strategy + append_name\n",
    "    \n",
    "            name = dirname_output + '/' + strategy + '/class_prob/v' + str(v) + '/'\n",
    "            if not os.path.isdir(name):\n",
    "                os.makedirs(name)\n",
    "            #build samples        \n",
    "            data = build_samples(matrix_clean, initial_training=initial_training, screen=True)\n",
    "        \n",
    "            # save initial data        \n",
    "            train = pd.DataFrame(data.train_features, columns=features_names)\n",
    "            train['objectId'] = data.train_metadata['id'].values\n",
    "            train['type'] = data.train_metadata['type'].values\n",
    "            train.to_csv(dirname_output + '/' + strategy + '/training_samples/initialtrain_v' + str(v) + '.csv', index=False)\n",
    "        \n",
    "            test = pd.DataFrame(data.test_features, columns=features_names)\n",
    "            test['objectId'] = data.test_metadata['id'].values\n",
    "            test['type'] = data.test_metadata['type'].values\n",
    "            test.to_csv(dirname_output + '/' + strategy + '/test_samples/initial_test_v' + str(v) + '.csv', index=False)        \n",
    "    \n",
    "            # perform learnin loop\n",
    "            learn_loop(data, nloops=nloops, strategy=strategy, \n",
    "                   output_metrics_file=output_metrics_file, \n",
    "                   output_queried_file=output_queried_file,\n",
    "                   classifier='RandomForest', seed=None,\n",
    "                   batch=1, screen=True, output_prob_root=output_prob_root)\n",
    "    "
   ]
  },
  {
   "cell_type": "code",
   "execution_count": 45,
   "id": "14c4f316-07f8-4382-a109-53d884c5e04b",
   "metadata": {},
   "outputs": [],
   "source": [
    "# Save new model\n",
    "# read train, test and query data\n",
    "indx = [0]\n",
    "date = '20230907'\n",
    "\n",
    "dirname = '/media/emille/git/Fink/supernova_al/repository/al_real_time/data/' + date + '/'\n",
    "\n",
    "fname = dirname + '/UncSampling/training_samples/initialtrain_v' + str(indx[0]) + '.csv'\n",
    "data_train = pd.read_csv(fname, index_col=False)\n",
    "\n",
    "fname = dirname + '/UncSampling/test_samples/initial_test_v' + str(indx[0]) + '.csv'\n",
    "data_test = pd.read_csv(fname, index_col=False)\n",
    "\n",
    "fname = dirname + '/UncSampling/queries/queried_UncSampling_v' + str(indx[0]) + '.dat'\n",
    "data_query = pd.read_csv(fname, skiprows=1, names=['day','id','type'] + list(data_train.keys())[:-2],index_col=False)"
   ]
  },
  {
   "cell_type": "code",
   "execution_count": 46,
   "id": "9b60676b-1235-4ca8-a15b-ee555cd64de1",
   "metadata": {
    "tags": []
   },
   "outputs": [],
   "source": [
    "# transfer data from test to train\n",
    "flag = np.array([item in data_query['id'].values for item in data_test['objectId'].values])\n",
    "\n",
    "data_train2 = pd.concat([data_train, data_test[flag]], ignore_index=True)\n",
    "data_test2 = data_test[~flag]"
   ]
  },
  {
   "cell_type": "code",
   "execution_count": 49,
   "id": "f2859fce-c17b-429e-871b-20f2abfe4ab7",
   "metadata": {
    "tags": []
   },
   "outputs": [
    {
     "data": {
      "text/plain": [
       "RandomForestClassifier(n_estimators=1000, random_state=42)"
      ]
     },
     "execution_count": 49,
     "metadata": {},
     "output_type": "execute_result"
    }
   ],
   "source": [
    "clf = RandomForestClassifier(random_state=42, n_estimators=1000)\n",
    "clf.fit(data_train2[list(data_train2.keys())[:-2]], data_train2['type'].values == 'Ia')"
   ]
  },
  {
   "cell_type": "code",
   "execution_count": 50,
   "id": "df23a835-ff1d-48da-a5cf-2a3df112d86c",
   "metadata": {
    "tags": []
   },
   "outputs": [
    {
     "data": {
      "text/plain": [
       "0.8193065140548729"
      ]
     },
     "execution_count": 50,
     "metadata": {},
     "output_type": "execute_result"
    }
   ],
   "source": [
    "clf.score(data_test2[list(data_test2.keys())[:-2]], data_test2['type'].values == 'Ia')"
   ]
  },
  {
   "cell_type": "code",
   "execution_count": 57,
   "id": "c3a85e5d-cbd0-4330-8df0-4ab44650d9e2",
   "metadata": {
    "tags": []
   },
   "outputs": [],
   "source": [
    "pred = clf.predict(data_test2[list(data_test2.keys())[:-2]])\n",
    "pred_prob = clf.predict_proba(data_test2[list(data_test2.keys())[:-2]])"
   ]
  },
  {
   "cell_type": "code",
   "execution_count": 61,
   "id": "a4baf269-6c9e-4cd3-b5a8-e32bb6888c32",
   "metadata": {
    "tags": []
   },
   "outputs": [
    {
     "data": {
      "image/png": "[encoded data removed]",
      "text/plain": [
       "<Figure size 576x360 with 1 Axes>"
      ]
     },
     "metadata": {
      "needs_background": "light"
     },
     "output_type": "display_data"
    }
   ],
   "source": [
    "plt.figure(figsize=(8,5))\n",
    "plt.hist(pred_prob[:,1], bins=30)\n",
    "plt.ylabel('N')\n",
    "plt.xlabel('Probability of being Ia')\n",
    "plt.show()"
   ]
  },
  {
   "cell_type": "code",
   "execution_count": 62,
   "id": "1716bf65-3df2-49c0-852d-bbb961785c43",
   "metadata": {
    "tags": []
   },
   "outputs": [
    {
     "data": {
      "text/plain": [
       "24"
      ]
     },
     "execution_count": 62,
     "metadata": {},
     "output_type": "execute_result"
    }
   ],
   "source": [
    "sum(pred_prob[:,1] == 0.5)"
   ]
  },
  {
   "cell_type": "code",
   "execution_count": 54,
   "id": "4d6e716c-4b8d-484a-8dda-ff0ff819b5a3",
   "metadata": {
    "tags": []
   },
   "outputs": [
    {
     "data": {
      "text/plain": [
       "(['accuracy', 'efficiency', 'purity', 'fom'],\n",
       " [0.8193065140548729,\n",
       "  0.5855799373040752,\n",
       "  0.20451061966279835,\n",
       "  0.04622087901986024])"
      ]
     },
     "execution_count": 54,
     "metadata": {},
     "output_type": "execute_result"
    }
   ],
   "source": [
    "get_snpcc_metric(pred, data_test2['type'].values == 'Ia')"
   ]
  },
  {
   "cell_type": "code",
   "execution_count": 66,
   "id": "76b8878a-4409-4470-a39c-2dce7cfb86f0",
   "metadata": {
    "tags": []
   },
   "outputs": [],
   "source": [
    "pickle.dump(clf, open(dirname + 'UncSampling/models/model_' + date + '.pkl', \n",
    "                      'wb'))"
   ]
  },
  {
   "cell_type": "code",
   "execution_count": 68,
   "id": "85550d55-0128-4b14-aa26-9f9f60f4511e",
   "metadata": {
    "tags": []
   },
   "outputs": [
    {
     "data": {
      "text/plain": [
       "'/media/emille/git/Fink/fink-science/fink_science/data/models/for_al_loop/model_20230907.pkl'"
      ]
     },
     "execution_count": 68,
     "metadata": {},
     "output_type": "execute_result"
    }
   ],
   "source": [
    "# copy model to fink-science\n",
    "copy(dirname + 'UncSampling/models/model_' + date + '.pkl', \n",
    "     '/media/emille/git/Fink/fink-science/fink_science/data/models/for_al_loop/model_' + date + '.pkl')"
   ]
  },
  {
   "cell_type": "code",
   "execution_count": null,
   "id": "508d8c28-a401-4c49-a5e1-693778b78d5b",
   "metadata": {},
   "outputs": [],
   "source": []
  }
 ],
 "metadata": {
  "kernelspec": {
   "display_name": "Python 3",
   "language": "python",
   "name": "python3"
  },
  "language_info": {
   "codemirror_mode": {
    "name": "ipython",
    "version": 3
   },
   "file_extension": ".py",
   "mimetype": "text/x-python",
   "name": "python",
   "nbconvert_exporter": "python",
   "pygments_lexer": "ipython3",
   "version": "3.7.1"
  }
 },
 "nbformat": 4,
 "nbformat_minor": 5
}

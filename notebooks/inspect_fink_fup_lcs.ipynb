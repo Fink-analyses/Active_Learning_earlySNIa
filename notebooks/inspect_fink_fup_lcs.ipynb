{
 "cells": [
  {
   "cell_type": "code",
   "execution_count": 1,
   "metadata": {},
   "outputs": [],
   "source": [
    "import numpy as np\n",
    "import pandas as pd\n",
    "from astropy.time import Time\n",
    "from datetime import datetime\n",
    "import matplotlib.pyplot as plt\n"
   ]
  },
  {
   "cell_type": "code",
   "execution_count": 2,
   "metadata": {},
   "outputs": [],
   "source": [
    "df_Fink_AL = pd.read_csv('../classifications/ALbot_with_classifications_curated_original.tsv', sep='\\t')\n",
    "df_Fink_AL['fup_jd'] = [Time(datetime.strptime(d[0], '%d/%m/%Y')).jd for d in df_Fink_AL[['Appears in bot']].values]"
   ]
  },
  {
   "cell_type": "code",
   "execution_count": 3,
   "metadata": {},
   "outputs": [],
   "source": [
    "df_tns_tmp = pd.read_parquet('../classifications/tns_fink_20230817.parquet')\n",
    "\n",
    "\n",
    "def extract_ztf_names(row):\n",
    "    \"\"\"Function to extract names starting with 'ZTF'\n",
    "\n",
    "    Args:\n",
    "        row (pd.row):  DataFrame row\n",
    "\n",
    "    Returns:\n",
    "        str: ZTF name\n",
    "    \"\"\"\n",
    "    if row:\n",
    "        ztf_list = [\n",
    "            name.strip() for name in row.split(\",\") if name.strip().startswith(\"ZTF\")\n",
    "        ]\n",
    "        if len(ztf_list) > 0:\n",
    "            return ztf_list[0]\n",
    "        else:\n",
    "            return \"\"\n",
    "    else:\n",
    "        return \"\"\n",
    "    \n",
    "# with ZTF data\n",
    "df_tns_tmp.loc[:, \"internal_names\"] = df_tns_tmp.loc[:, \"internal_names\"].fillna(value=\"\")\n",
    "df_tns = df_tns_tmp[df_tns_tmp[\"internal_names\"].str.contains(\"ZTF\")].copy()\n",
    "df_tns.loc[:, \"ztf_names\"] = (\n",
    "    df_tns.loc[:, \"internal_names\"].apply(extract_ztf_names).to_numpy()\n",
    ")\n",
    "\n",
    "# reformatting time columns\n",
    "df_tns[\"discoveryjd\"] = [Time(d, format=\"iso\").jd for d in df_tns[\"discoverydate\"]]"
   ]
  },
  {
   "cell_type": "code",
   "execution_count": 4,
   "metadata": {},
   "outputs": [
    {
     "name": "stdout",
     "output_type": "stream",
     "text": [
      "75 Fink fup in TNS\n",
      "from 94 Fink alerts\n"
     ]
    }
   ],
   "source": [
    "# fink fup in TNS\n",
    "print(len(df_Fink_AL[df_Fink_AL['ztf_names'].isin(df_tns['ztf_names'])]), 'Fink fup in TNS')\n",
    "print(f\"from {len(df_Fink_AL)} Fink alerts\")"
   ]
  },
  {
   "cell_type": "code",
   "execution_count": 6,
   "metadata": {},
   "outputs": [
    {
     "name": "stdout",
     "output_type": "stream",
     "text": [
      "75 Fink fup in TNS\n"
     ]
    }
   ],
   "source": [
    "df_tns_fink_fup = pd.merge(df_Fink_AL, df_tns, on='ztf_names', how='inner')\n",
    "print(len(df_tns_fink_fup), 'Fink fup in TNS')"
   ]
  },
  {
   "cell_type": "code",
   "execution_count": 7,
   "metadata": {},
   "outputs": [
    {
     "data": {
      "text/plain": [
       "Index(['Appears in bot', 'ztf_names', 'Classification',\n",
       "       'Time sent for follow-up', 'fup_jd', 'objid', 'name_prefix', 'name',\n",
       "       'ra', 'declination', 'redshift', 'typeid', 'type', 'reporting_groupid',\n",
       "       'reporting_group', 'source_groupid', 'source_group', 'discoverydate',\n",
       "       'discoverymag', 'discmagfilter', 'filter', 'reporters', 'time_received',\n",
       "       'internal_names', 'Discovery_ADS_bibcode', 'Class_ADS_bibcodes',\n",
       "       'creationdate', 'lastmodified', 'fullname', 'internalname',\n",
       "       'discoveryjd'],\n",
       "      dtype='object')"
      ]
     },
     "execution_count": 7,
     "metadata": {},
     "output_type": "execute_result"
    }
   ],
   "source": [
    "df_tns_fink_fup.keys()"
   ]
  },
  {
   "cell_type": "code",
   "execution_count": 8,
   "metadata": {},
   "outputs": [],
   "source": [
    "df_tns_fink_fup['delta_discover_fup'] = df_tns_fink_fup.discoveryjd - df_tns_fink_fup.fup_jd"
   ]
  },
  {
   "cell_type": "code",
   "execution_count": 9,
   "metadata": {},
   "outputs": [
    {
     "name": "stdout",
     "output_type": "stream",
     "text": [
      "-9.533999999985099\n",
      "-9.512381446460882\n"
     ]
    },
    {
     "data": {
      "image/png": "[encoded data removed]",
      "text/plain": [
       "<Figure size 640x480 with 1 Axes>"
      ]
     },
     "metadata": {},
     "output_type": "display_data"
    }
   ],
   "source": [
    "plt.hist(df_tns_fink_fup['delta_discover_fup'], bins=10)\n",
    "print(df_tns_fink_fup['delta_discover_fup'].median())\n",
    "print(df_tns_fink_fup['delta_discover_fup'].mean())"
   ]
  },
  {
   "cell_type": "code",
   "execution_count": null,
   "metadata": {},
   "outputs": [],
   "source": []
  }
 ],
 "metadata": {
  "kernelspec": {
   "display_name": "ActSNClass",
   "language": "python",
   "name": "python3"
  },
  "language_info": {
   "codemirror_mode": {
    "name": "ipython",
    "version": 3
   },
   "file_extension": ".py",
   "mimetype": "text/x-python",
   "name": "python",
   "nbconvert_exporter": "python",
   "pygments_lexer": "ipython3",
   "version": "3.11.0"
  }
 },
 "nbformat": 4,
 "nbformat_minor": 2
}
